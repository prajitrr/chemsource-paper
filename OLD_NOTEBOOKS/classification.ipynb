{
 "cells": [
  {
   "cell_type": "code",
   "execution_count": 3,
   "metadata": {},
   "outputs": [
    {
     "name": "stdout",
     "output_type": "stream",
     "text": [
      "INFO: Pandarallel will run on 15 workers.\n",
      "INFO: Pandarallel will use Memory file system to transfer data between the main process and workers.\n"
     ]
    }
   ],
   "source": [
    "import chemsource as cs\n",
    "import pandas as pd\n",
    "import numpy as np\n",
    "from tqdm import tqdm\n",
    "from ast import literal_eval\n",
    "from helpers.classify import *\n",
    "from pandarallel import pandarallel\n",
    "\n",
    "pandarallel.initialize(progress_bar=True, nb_workers=15)\n",
    "tqdm.pandas()"
   ]
  },
  {
   "cell_type": "code",
   "execution_count": 4,
   "metadata": {},
   "outputs": [],
   "source": [
    "# Create model and initialize to OpenAI GPT-4o\n",
    "openai_key = pd.read_csv(\"../secrets/openai_api.txt\", header=None, index_col=None).values[0][0]\n",
    "\n",
    "BASE_PROMPT = \"You are a helpful scientist that will classify the provided compounds using only the information provided as any combination of the following: MEDICAL, ENDOGENOUS, FOOD, PERSONAL CARE, INDUSTRIAL. Note that MEDICAL refers to compounds actively used as approved medications in humans or in late-stage clinical trials in humans. Note that ENDOGENOUS refers to compounds that are produced by the human body specifically. ENDOGENOUS excludes essential nutrients that cannot be synthesized by the human body. Note that FOOD refers to compounds present in natural food items or food additives. Note that INDUSTRIAL should be used only for synthetic compounds not used as a contributing ingredient in the medical, personal care, or food industries. Note that PERSONAL CARE refers to non-medicated compounds typically used for activities such as skincare, beauty, and fitness. Specify INFO instead if more information is needed. DO NOT MAKE ANY ASSUMPTIONS, USE ONLY THE INFORMATION PROVIDED AFTER THE COMPOUND NAME BY THE USER. A classification of INFO will also be rewarded when correctly applied and is strongly encouraged if information is of poor quality, if there is not enough information, or if you are not completely confident in your answer.  Provide the output as a plain text separated by commas, and provide only the categories listed (either list a combination of INDUSTRIAL, ENDOGENOUS, PERSONAL CARE, MEDICAL, FOOD or list INFO), with no justification. Provided Information:\\n\"\n",
    "model_openai = cs.ChemSource()\n",
    "model_openai.configure(\n",
    "    model=\"gpt-4o-2024-11-20\",\n",
    "    prompt=BASE_PROMPT, \n",
    "    model_api_key=openai_key, \n",
    "    temperature=0, \n",
    "    top_p=1, logprobs=True)\n",
    "\n",
    "# Create and initialize model to DeepSeek R1\n",
    "deepinfra_key = pd.read_csv(\"../secrets/deepinfra_api.txt\", header=None, index_col=None).values[0][0]\n",
    "\n",
    "model_deepseek_v3 = cs.ChemSource()\n",
    "model_deepseek_v3.configure(\n",
    "    model=\"deepseek-ai/DeepSeek-V3\",\n",
    "    model_api_key=deepinfra_key,\n",
    "    prompt=BASE_PROMPT,\n",
    "    temperature=0,\n",
    "    top_p=1,\n",
    "    logprobs=True,\n",
    "    base_url=\"https://api.deepinfra.com/v1/openai\")\n",
    "\n",
    "\n",
    "# Create GPT-4o model, allow for contextual information\n",
    "CONTEXTUAL_PROMPT = \"You are a helpful scientist that will classify the provided compounds using only the information provided as any combination of the following: MEDICAL, ENDOGENOUS, FOOD, PERSONAL CARE, INDUSTRIAL. Note that MEDICAL refers to compounds actively used as approved medications in humans or in late-stage clinical trials in humans. Note that ENDOGENOUS refers to compounds that are produced by the human body specifically. ENDOGENOUS excludes essential nutrients that cannot be synthesized by the human body. Note that FOOD refers to compounds present in natural food items or food additives. Note that INDUSTRIAL should be used only for synthetic compounds not used as a contributing ingredient in the medical, personal care, or food industries. Note that PERSONAL CARE refers to non-medicated compounds typically used for activities such as skincare, beauty, and fitness. Specify INFO instead if more information is needed. DO NOT MAKE ANY ASSUMPTIONS. You may use prior information or knowledge to help, but information inputted by the user takes precedence. A classification of INFO will also be rewarded when correctly applied and is strongly encouraged if information is of poor quality, if there is not enough information, or if you are not completely confident in your answer.  Provide the output as a plain text separated by commas, and provide only the categories listed (either list a combination of INDUSTRIAL, ENDOGENOUS, PERSONAL CARE, MEDICAL, FOOD or list INFO), with no justification. Provided Information:\\n\"\n",
    "model_openai_contextual = cs.ChemSource()\n",
    "model_openai_contextual.configure(\n",
    "    model=\"gpt-4o-2024-11-20\",\n",
    "    prompt=CONTEXTUAL_PROMPT, \n",
    "    model_api_key=openai_key, \n",
    "    temperature=0, \n",
    "    top_p=1, logprobs=True)"
   ]
  },
  {
   "cell_type": "markdown",
   "metadata": {},
   "source": [
    "Validation Dataset"
   ]
  },
  {
   "cell_type": "code",
   "execution_count": 8,
   "metadata": {},
   "outputs": [],
   "source": [
    "# Read in data\n",
    "validation_data = pd.read_csv(\"../data/cleaned_data/cleaned_validation_data_with_text.csv\")\n",
    "validation_data.drop_duplicates(subset=[\"name_used\"], inplace=True)\n",
    "validation_data['text'] = validation_data['text'].apply(literal_eval)\n",
    "validation_data[\"site\"] = validation_data[\"text\"].apply(lambda x: x[0])\n",
    "validation_data[\"text\"] = validation_data[\"text\"].apply(lambda x: x[1])"
   ]
  },
  {
   "cell_type": "code",
   "execution_count": 9,
   "metadata": {},
   "outputs": [
    {
     "data": {
      "application/vnd.jupyter.widget-view+json": {
       "model_id": "97d5a99bf6cd46bca4ccc35b01e054ba",
       "version_major": 2,
       "version_minor": 0
      },
      "text/plain": [
       "VBox(children=(HBox(children=(IntProgress(value=0, description='0.00%', max=248), Label(value='0 / 248'))), HB…"
      ]
     },
     "metadata": {},
     "output_type": "display_data"
    }
   ],
   "source": [
    "validation_data[\"chemsource_output_gpt-4o\"] = validation_data.parallel_apply(lambda x: \n",
    "                                                        classify_with_log_probs(x[\"name_used\"],x[\"text\"], model_openai), \n",
    "                                                        axis=1)\n",
    "validation_data.to_csv(\"../data/output/validation_data_classified_all.csv\", index=False)"
   ]
  },
  {
   "cell_type": "code",
   "execution_count": 9,
   "metadata": {},
   "outputs": [],
   "source": [
    "validation_data = pd.read_csv(\"../data/output/validation_data_classified_all.csv\")"
   ]
  },
  {
   "cell_type": "code",
   "execution_count": null,
   "metadata": {},
   "outputs": [
    {
     "data": {
      "application/vnd.jupyter.widget-view+json": {
       "model_id": "0cac7149c9564fb09a2826d7b3173ec1",
       "version_major": 2,
       "version_minor": 0
      },
      "text/plain": [
       "VBox(children=(HBox(children=(IntProgress(value=0, description='0.00%', max=248), Label(value='0 / 248'))), HB…"
      ]
     },
     "metadata": {},
     "output_type": "display_data"
    }
   ],
   "source": [
    "validation_data[\"chemsource_output_deepseek-v3\"] = validation_data.parallel_apply(lambda x:\n",
    "                                                        classify_with_log_probs(x[\"name_used\"],x[\"text\"], model_deepseek_v3),\n",
    "                                                        axis=1)\n",
    "validation_data.to_csv(\"../data/output/validation_data_classified_all.csv\", index=False)"
   ]
  },
  {
   "cell_type": "markdown",
   "metadata": {},
   "source": [
    "Additional Dataset"
   ]
  },
  {
   "cell_type": "code",
   "execution_count": 4,
   "metadata": {},
   "outputs": [],
   "source": [
    "# Read in Data\n",
    "all_data = pd.read_csv('../data/cleaned_data/all_cleaned_data_with_text.tsv', sep='\\t')\n",
    "all_data['text'] = all_data['text'].apply(literal_eval)\n",
    "all_data[\"site\"] = all_data[\"text\"].apply(lambda x: x[0])\n",
    "all_data[\"text\"] = all_data[\"text\"].apply(lambda x: x[1])"
   ]
  },
  {
   "cell_type": "code",
   "execution_count": 4,
   "metadata": {},
   "outputs": [
    {
     "name": "stderr",
     "output_type": "stream",
     "text": [
      "100%|██████████| 1235/1235 [14:06<00:00,  1.46it/s]\n"
     ]
    }
   ],
   "source": [
    "all_data[\"chemsource_output\"] = all_data.progress_apply(lambda x: \n",
    "                                                        classify_with_log_probs(x[\"name_used\"],x[\"text\"], model_openai), \n",
    "                                                        axis=1)"
   ]
  },
  {
   "cell_type": "code",
   "execution_count": 6,
   "metadata": {},
   "outputs": [],
   "source": [
    "all_data.to_csv('../data/output/all_data_classified_gpt-4o.tsv', sep='\\t', index=False)"
   ]
  },
  {
   "cell_type": "markdown",
   "metadata": {},
   "source": [
    "Mouse Dataset Reanalysis"
   ]
  },
  {
   "cell_type": "code",
   "execution_count": 8,
   "metadata": {},
   "outputs": [
    {
     "data": {
      "application/vnd.jupyter.widget-view+json": {
       "model_id": "e20e076a052a43a4838d883e96d32d62",
       "version_major": 2,
       "version_minor": 0
      },
      "text/plain": [
       "VBox(children=(HBox(children=(IntProgress(value=0, description='0.00%', max=19), Label(value='0 / 19'))), HBox…"
      ]
     },
     "metadata": {},
     "output_type": "display_data"
    },
    {
     "name": "stderr",
     "output_type": "stream",
     "text": [
      "/tmp/ipykernel_41858/3618992789.py:2: SettingWithCopyWarning: \n",
      "A value is trying to be set on a copy of a slice from a DataFrame.\n",
      "Try using .loc[row_indexer,col_indexer] = value instead\n",
      "\n",
      "See the caveats in the documentation: https://pandas.pydata.org/pandas-docs/stable/user_guide/indexing.html#returning-a-view-versus-a-copy\n",
      "  mice_data[\"chemsource_output_gpt-4o_contextual\"] = mice_data.parallel_apply(lambda x: classify_with_log_probs(x[\"name_used\"],x[\"text\"], model_openai_contextual), axis=1)\n"
     ]
    }
   ],
   "source": [
    "mice_data = all_data[all_data[\"dataset\"] == \"mouse\"]\n",
    "mice_data[\"chemsource_output_gpt-4o_contextual\"] = mice_data.parallel_apply(lambda x: classify_with_log_probs(x[\"name_used\"],x[\"text\"], model_openai_contextual), axis=1)\n",
    "mice_data.to_csv('../data/output/mice_data_classified_gpt-4o_contextual.tsv', sep='\\t', index=False)"
   ]
  },
  {
   "cell_type": "markdown",
   "metadata": {},
   "source": [
    "Extra Controls"
   ]
  },
  {
   "cell_type": "code",
   "execution_count": 14,
   "metadata": {},
   "outputs": [
    {
     "name": "stderr",
     "output_type": "stream",
     "text": [
      "100%|██████████| 1337/1337 [12:44<00:00,  1.75it/s]\n"
     ]
    }
   ],
   "source": [
    "extra_controls = pd.read_csv(\"../data/cleaned_data/extra_controls_cleaned_data_with_text.tsv\", sep=\"\\t\")\n",
    "extra_controls['text'] = extra_controls['text'].apply(literal_eval)\n",
    "extra_controls[\"site\"] = extra_controls[\"text\"].apply(lambda x: x[0])\n",
    "extra_controls[\"text\"] = extra_controls[\"text\"].apply(lambda x: x[1])\n",
    "extra_controls[\"chemsource_output\"] = extra_controls.progress_apply(lambda x: \n",
    "                                                        classify_with_log_probs(x[\"name_used\"],x[\"text\"], model_openai), \n",
    "                                                        axis=1)\n",
    "extra_controls.to_csv('../data/output/extra_controls_classified_gpt-4o.tsv', sep='\\t', index=False)\n"
   ]
  },
  {
   "cell_type": "code",
   "execution_count": 5,
   "metadata": {},
   "outputs": [],
   "source": [
    "extra_controls = pd.read_csv(\"../data/cleaned_data/extra_controls_cleaned_data_with_text.tsv\", sep=\"\\t\")\n",
    "extra_controls['text'] = extra_controls['text'].apply(literal_eval)\n",
    "extra_controls[\"site\"] = extra_controls[\"text\"].apply(lambda x: x[0])\n",
    "extra_controls[\"text\"] = extra_controls[\"text\"].apply(lambda x: x[1])\n"
   ]
  },
  {
   "cell_type": "code",
   "execution_count": 7,
   "metadata": {},
   "outputs": [
    {
     "data": {
      "text/plain": [
       "\"Xanthine ( or , from Ancient Greek ξανθός xanthós 'yellow' for its yellowish-white appearance; archaically xanthic acid; systematic name 3,7-dihydropurine-2,6-dione) is a purine base found in most human body tissues and fluids, as well as in other organisms. Several stimulants are derived from xanthine, including caffeine, theophylline, and theobromine. Xanthine is a product on the pathway of purine degradation. It is created from guanine by guanine deaminase. It is created from hypoxanthine by xanthine oxidoreductase. It is also created from xanthosine by purine nucleoside phosphorylase. Xanthine is subsequently converted to uric acid by the action of the xanthine oxidase enzyme. == Use and production == Xanthine is used as a drug precursor for human and animal medications, and is produced as a pesticide ingredient. == Clinical significance == Derivatives of xanthine (known collectively as xanthines) are a group of alkaloids commonly used for their effects as mild stimulants and as bronchodilators, notably in the treatment of asthma or influenza symptoms. In contrast to other, more potent stimulants like sympathomimetic amines, xanthines mainly act to oppose the actions of adenosine, and increase alertness in the central nervous system. === Toxicity === Methylxanthines (methylated xanthines), which include caffeine, aminophylline, IBMX, paraxanthine, pentoxifylline, theobromine, theophylline, and 7-methylxanthine (heteroxanthine), among others, affect the airways, increase heart rate and force of contraction, and at high concentrations can cause cardiac arrhythmias. In high doses, they can lead to convulsions that are resistant to anticonvulsants. Methylxanthines induce gastric acid and pepsin secretions in the gastrointestinal tract. Methylxanthines are metabolized by cytochrome P450 in the liver. If swallowed, inhaled, or exposed to the eyes in high amounts, xanthines can be harmful, and they may cause an allergic reaction if applied topically. === Pharmacology === In in vitro pharmacological studies, xanthines act as both competitive nonselective phosphodiesterase inhibitors and nonselective adenosine receptor antagonists. Phosphodiesterase inhibitors raise intracellular cAMP, activate PKA, inhibit TNF-α synthesis, and leukotriene and reduce inflammation and innate immunity. Adenosine receptor antagonists inhibit sleepiness-inducing adenosine. However, different analogues show varying potency at the numerous subtypes, and a wide range of synthetic xanthines (some nonmethylated) have been developed searching for compounds with greater selectivity for phosphodiesterase enzyme or adenosine receptor subtypes. === Pathology === People with rare genetic disorders, specifically xanthinuria and Lesch–Nyhan syndrome, lack sufficient xanthine oxidase and cannot convert xanthine to uric acid. == Possible formation in absence of life == Studies reported in 2008, based on 12C/13C isotopic ratios of organic compounds found in the Murchison meteorite, suggested that xanthine and related chemicals, including the RNA component uracil, have been formed extraterrestrially. In August 2011, a report, based on NASA studies with meteorites found on Earth, was published suggesting xanthine and related organic molecules, including the DNA and RNA components adenine and guanine, were found in outer space. == See also == DMPX Murchison meteorite Theobromine poisoning Xanthene Xanthone Xanthydrol Kidney stone disease == References ==\""
      ]
     },
     "execution_count": 7,
     "metadata": {},
     "output_type": "execute_result"
    }
   ],
   "source": [
    "extra_controls.iloc[65][\"text\"]"
   ]
  },
  {
   "cell_type": "code",
   "execution_count": null,
   "metadata": {},
   "outputs": [
    {
     "data": {
      "text/plain": [
       "featureID                                              32832.0\n",
       "DF                                                    0.181641\n",
       "synonyms     ('Limonene-1,2-epoxide', '(4r)-limonene-1,2-ep...\n",
       "dataset                                                   food\n",
       "text          In this work, we developed a solid lipid nano...\n",
       "name_used                                 Limonene-1,2-epoxide\n",
       "site                                                    PUBMED\n",
       "Name: 68, dtype: object"
      ]
     },
     "execution_count": 7,
     "metadata": {},
     "output_type": "execute_result"
    }
   ],
   "source": [
    "iloc[68]"
   ]
  },
  {
   "cell_type": "code",
   "execution_count": null,
   "metadata": {},
   "outputs": [
    {
     "data": {
      "text/plain": [
       "featureID                                              32832.0\n",
       "DF                                                    0.181641\n",
       "synonyms     ('Limonene-1,2-epoxide', '(4r)-limonene-1,2-ep...\n",
       "dataset                                                   food\n",
       "text          In this work, we developed a solid lipid nano...\n",
       "name_used                                 Limonene-1,2-epoxide\n",
       "site                                                    PUBMED\n",
       "Name: 68, dtype: object"
      ]
     },
     "metadata": {},
     "output_type": "display_data"
    }
   ],
   "source": [
    "iloc[68]"
   ]
  },
  {
   "cell_type": "code",
   "execution_count": null,
   "metadata": {},
   "outputs": [
    {
     "data": {
      "text/plain": [
       "featureID                                              32832.0\n",
       "DF                                                    0.181641\n",
       "synonyms     ('Limonene-1,2-epoxide', '(4r)-limonene-1,2-ep...\n",
       "dataset                                                   food\n",
       "text          In this work, we developed a solid lipid nano...\n",
       "name_used                                 Limonene-1,2-epoxide\n",
       "site                                                    PUBMED\n",
       "Name: 68, dtype: object"
      ]
     },
     "metadata": {},
     "output_type": "display_data"
    }
   ],
   "source": [
    "iloc[68]"
   ]
  },
  {
   "cell_type": "code",
   "execution_count": 8,
   "metadata": {},
   "outputs": [
    {
     "data": {
      "text/plain": [
       "('ENDOGENOUS, MEDICAL, INDUSTRIAL',\n",
       " [('END', -0.001113189267925918),\n",
       "  ('OG', 0.0),\n",
       "  ('ENO', -6.704273118884885e-07),\n",
       "  ('US', 0.0),\n",
       "  (',', -0.005234475247561932),\n",
       "  (' MED', -0.0956529900431633),\n",
       "  ('ICAL', 0.0),\n",
       "  (',', -0.005240156780928373),\n",
       "  (' INDUSTR', -0.03813421353697777),\n",
       "  ('IAL', 0.0)])"
      ]
     },
     "execution_count": 8,
     "metadata": {},
     "output_type": "execute_result"
    }
   ],
   "source": [
    "classify_with_log_probs(\"Xanthine\",extra_controls.iloc[65][\"text\"], model_openai)"
   ]
  }
 ],
 "metadata": {
  "kernelspec": {
   "display_name": "chemsource",
   "language": "python",
   "name": "python3"
  },
  "language_info": {
   "codemirror_mode": {
    "name": "ipython",
    "version": 3
   },
   "file_extension": ".py",
   "mimetype": "text/x-python",
   "name": "python",
   "nbconvert_exporter": "python",
   "pygments_lexer": "ipython3",
   "version": "3.13.2"
  }
 },
 "nbformat": 4,
 "nbformat_minor": 2
}
