{
 "cells": [
  {
   "cell_type": "code",
   "execution_count": 1,
   "id": "ac41215e",
   "metadata": {},
   "outputs": [],
   "source": [
    "import pandas as pd"
   ]
  },
  {
   "cell_type": "code",
   "execution_count": 4,
   "id": "44754e99",
   "metadata": {},
   "outputs": [
    {
     "name": "stdout",
     "output_type": "stream",
     "text": [
      "GPT-4o cost: $20.30\n",
      "GPT-4-1 no RAG cost: $3.37\n",
      "Search GPT cost: $123.83\n",
      "DeepSeek cost: $3.09\n"
     ]
    }
   ],
   "source": [
    "NO_RAG_PROMPT = \"You are a helpful scientist that will classify the provided compounds as any combination of the following: MEDICAL, ENDOGENOUS, FOOD, PERSONAL CARE, INDUSTRIAL. Note that MEDICAL refers to compounds actively used as approved medications in humans or in late-stage clinical trials in humans. Note that ENDOGENOUS refers to compounds that are produced by the human body specifically. ENDOGENOUS excludes essential nutrients that cannot be synthesized by the human body. Note that FOOD refers to compounds present in natural food items or food additives. Note that INDUSTRIAL should be used only for synthetic compounds not used as a contributing ingredient in the medical, personal care, or food industries. Note that PERSONAL CARE refers to non-medicated compounds typically used for activities such as skincare, beauty, and fitness. Specify INFO instead if more information is needed. DO NOT MAKE ANY ASSUMPTIONS. A classification of INFO will also be rewarded when correctly applied and is strongly encouraged if your information is of poor quality, if you do not have enough information, or if you are not completely confident in your answer. Provide the output as a plain text separated by commas, and provide only the categories listed (either list a combination of INDUSTRIAL, ENDOGENOUS, PERSONAL CARE, MEDICAL, FOOD or list INFO), with no justification.\"\n",
    "prompt_length = len(NO_RAG_PROMPT)\n",
    "\n",
    "df = pd.read_csv(\"../data/output/validation_data_classified_all.csv\")\n",
    "text_lengths = df['text'].str.len()\n",
    "\n",
    "token_lengths = text_lengths / 4\n",
    "total_prompt_lengths = prompt_length * len(df) / 4\n",
    "\n",
    "total_token_counts = token_lengths.sum()\n",
    "total_token_counts\n",
    "\n",
    "gpt_4o_cost = (total_token_counts + total_prompt_lengths)* 2.50/1000000\n",
    "gpt_4_1_no_rag_cost = total_prompt_lengths * 2.00/1000000\n",
    "search_gpt_cost = 25.00 / 1000 * len(df)\n",
    "deepseek_cost = (total_token_counts + total_prompt_lengths) * 0.38/1000000\n",
    "\n",
    "print(f\"GPT-4o cost: ${gpt_4o_cost:.2f}\")\n",
    "print(f\"GPT-4-1 no RAG cost: ${gpt_4_1_no_rag_cost:.2f}\")\n",
    "print(f\"Search GPT cost: ${search_gpt_cost:.2f}\")\n",
    "print(f\"DeepSeek cost: ${deepseek_cost:.2f}\")"
   ]
  }
 ],
 "metadata": {
  "kernelspec": {
   "display_name": "chemsource2",
   "language": "python",
   "name": "python3"
  },
  "language_info": {
   "codemirror_mode": {
    "name": "ipython",
    "version": 3
   },
   "file_extension": ".py",
   "mimetype": "text/x-python",
   "name": "python",
   "nbconvert_exporter": "python",
   "pygments_lexer": "ipython3",
   "version": "3.12.2"
  }
 },
 "nbformat": 4,
 "nbformat_minor": 5
}
