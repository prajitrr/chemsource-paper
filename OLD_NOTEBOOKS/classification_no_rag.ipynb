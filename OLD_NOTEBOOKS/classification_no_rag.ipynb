{
 "cells": [
  {
   "cell_type": "code",
   "execution_count": 11,
   "metadata": {},
   "outputs": [
    {
     "name": "stdout",
     "output_type": "stream",
     "text": [
      "INFO: Pandarallel will run on 15 workers.\n",
      "INFO: Pandarallel will use Memory file system to transfer data between the main process and workers.\n"
     ]
    }
   ],
   "source": [
    "import chemsource as cs\n",
    "import pandas as pd\n",
    "import numpy as np\n",
    "from tqdm import tqdm\n",
    "from ast import literal_eval\n",
    "from helpers.classify import *\n",
    "from pandarallel import pandarallel\n",
    "\n",
    "pandarallel.initialize(progress_bar=True, nb_workers=15)\n",
    "tqdm.pandas()"
   ]
  },
  {
   "cell_type": "code",
   "execution_count": 2,
   "metadata": {},
   "outputs": [],
   "source": [
    "# Create model and initialize to OpenAI GPT-4o\n",
    "openai_key = pd.read_csv(\"../secrets/openai_api.txt\", header=None, index_col=None).values[0][0]\n",
    "\n",
    "NO_RAG_PROMPT = \"You are a helpful scientist that will classify the provided compounds as any combination of the following: MEDICAL, ENDOGENOUS, FOOD, PERSONAL CARE, INDUSTRIAL. Note that MEDICAL refers to compounds actively used as approved medications in humans or in late-stage clinical trials in humans. Note that ENDOGENOUS refers to compounds that are produced by the human body specifically. ENDOGENOUS excludes essential nutrients that cannot be synthesized by the human body. Note that FOOD refers to compounds present in natural food items or food additives. Note that INDUSTRIAL should be used only for synthetic compounds not used as a contributing ingredient in the medical, personal care, or food industries. Note that PERSONAL CARE refers to non-medicated compounds typically used for activities such as skincare, beauty, and fitness. Specify INFO instead if more information is needed. DO NOT MAKE ANY ASSUMPTIONS. A classification of INFO will also be rewarded when correctly applied and is strongly encouraged if your information is of poor quality, if you do not have enough information, or if you are not completely confident in your answer. Provide the output as a plain text separated by commas, and provide only the categories listed (either list a combination of INDUSTRIAL, ENDOGENOUS, PERSONAL CARE, MEDICAL, FOOD or list INFO), with no justification.\"\n",
    "model_openai_no_rag = cs.ChemSource()\n",
    "model_openai_no_rag.configure(\n",
    "    model=\"gpt-4.1-2025-04-14\",\n",
    "    prompt=NO_RAG_PROMPT, \n",
    "    search=False,\n",
    "    model_api_key=openai_key, \n",
    "    temperature=0, \n",
    "    top_p=1, logprobs=True)\n"
   ]
  },
  {
   "cell_type": "code",
   "execution_count": 3,
   "metadata": {},
   "outputs": [
    {
     "data": {
      "text/plain": [
       "('MEDICAL',\n",
       " ChoiceLogprobs(content=[ChatCompletionTokenLogprob(token='MED', bytes=[77, 69, 68], logprob=0.0, top_logprobs=[]), ChatCompletionTokenLogprob(token='ICAL', bytes=[73, 67, 65, 76], logprob=0.0, top_logprobs=[])], refusal=None))"
      ]
     },
     "execution_count": 3,
     "metadata": {},
     "output_type": "execute_result"
    }
   ],
   "source": [
    "model_openai_no_rag.classify(\"\", \"aspirin\")"
   ]
  },
  {
   "cell_type": "code",
   "execution_count": 9,
   "metadata": {},
   "outputs": [],
   "source": [
    "validation_data = pd.read_csv('../data/output/validation_data_classified_all.csv')"
   ]
  },
  {
   "cell_type": "code",
   "execution_count": null,
   "metadata": {},
   "outputs": [],
   "source": [
    "validation_data = pd.read_csv(\"../data/cleaned_data/cleaned_validation_data_with_text.csv\")\n",
    "validation_data.drop_duplicates(subset=[\"name_used\"], inplace=True)\n",
    "validation_data['text'] = validation_data['text'].apply(literal_eval)\n",
    "validation_data[\"site\"] = validation_data[\"text\"].apply(lambda x: x[0])\n",
    "validation_data[\"text\"] = validation_data[\"text\"].apply(lambda x: x[1])"
   ]
  },
  {
   "cell_type": "code",
   "execution_count": 17,
   "metadata": {},
   "outputs": [
    {
     "data": {
      "application/vnd.jupyter.widget-view+json": {
       "model_id": "5fce7d4fd8ae467d8923bf448b6f4991",
       "version_major": 2,
       "version_minor": 0
      },
      "text/plain": [
       "VBox(children=(HBox(children=(IntProgress(value=0, description='0.00%', max=331), Label(value='0 / 331'))), HB…"
      ]
     },
     "metadata": {},
     "output_type": "display_data"
    }
   ],
   "source": [
    "validation_data[\"chemsource_output_gpt-4-1\"] = validation_data.parallel_apply(lambda x: \n",
    "                                                        classify_with_log_probs(\"\",x[\"name_used\"], model_openai_no_rag), \n",
    "                                                        axis=1)"
   ]
  },
  {
   "cell_type": "code",
   "execution_count": 21,
   "metadata": {},
   "outputs": [],
   "source": [
    "validation_data.to_csv(\"../data/output/validation_data_classified_all.csv\", index=False)"
   ]
  },
  {
   "cell_type": "markdown",
   "metadata": {},
   "source": [
    "Classification Using Search Function"
   ]
  },
  {
   "cell_type": "code",
   "execution_count": 3,
   "metadata": {},
   "outputs": [],
   "source": [
    "# Create model and initialize to OpenAI GPT-4o\n",
    "\n",
    "SEARCH_PROMPT = \"You are a helpful scientist that will classify the provided compounds as any combination of the following: MEDICAL, ENDOGENOUS, FOOD, PERSONAL CARE, INDUSTRIAL. Note that MEDICAL refers to compounds actively used as approved medications in humans or in late-stage clinical trials in humans. Note that ENDOGENOUS refers to compounds that are produced by the human body specifically. ENDOGENOUS excludes essential nutrients that cannot be synthesized by the human body. Note that FOOD refers to compounds present in natural food items or food additives. Note that INDUSTRIAL should be used only for synthetic compounds not used as a contributing ingredient in the medical, personal care, or food industries. Note that PERSONAL CARE refers to non-medicated compounds typically used for activities such as skincare, beauty, and fitness. Specify INFO instead if more information is needed. DO NOT MAKE ANY ASSUMPTIONS. A classification of INFO will also be rewarded when correctly applied and is strongly encouraged if your information is of poor quality, if you do not have enough information, or if you are not completely confident in your answer. Provide the output as a plain text separated by commas, and provide only the categories listed (either list a combination of INDUSTRIAL, ENDOGENOUS, PERSONAL CARE, MEDICAL, FOOD or list INFO), with no justification. Provide sources as another plain text comma separated list separated from the first list by a semicolon (;). DO NOT PROVIDE ANYTHING EXCEPT COMMA SEPARATED RAW URLs AFTER THE SEMICOLON. Provided compound: \"\n",
    "model_openai_search = cs.ChemSource()\n",
    "model_openai_search.configure(\n",
    "    model=\"gpt-4.1\",\n",
    "    prompt=SEARCH_PROMPT, \n",
    "    search=True,\n",
    "    force_search=True,\n",
    "    search_context=\"medium\",\n",
    "    model_api_key=openai_key, \n",
    "    temperature=0, \n",
    "    top_p=1, logprobs=False)\n"
   ]
  },
  {
   "cell_type": "code",
   "execution_count": 12,
   "metadata": {},
   "outputs": [
    {
     "name": "stderr",
     "output_type": "stream",
     "text": [
      "/home/prajitrr/miniconda3/envs/chemsource/lib/python3.13/site-packages/numpy/_core/fromnumeric.py:57: FutureWarning: 'DataFrame.swapaxes' is deprecated and will be removed in a future version. Please use 'DataFrame.transpose' instead.\n",
      "  return bound(*args, **kwds)\n"
     ]
    }
   ],
   "source": [
    "validation_data = pd.read_csv('../data/output/validation_data_classified_all.csv')\n",
    "# Split validation data into 50 chunks\n",
    "validation_data_chunks = np.array_split(validation_data, 50)\n",
    "validation_data_chunk_outnames = [\"../data/output/search_split/\" + \"validation_data_classified\" + \"_chunk_\" + str(i) + \".csv\" for i in range(50)]"
   ]
  },
  {
   "cell_type": "code",
   "execution_count": null,
   "metadata": {},
   "outputs": [
    {
     "name": "stderr",
     "output_type": "stream",
     "text": [
      "/home/prajitrr/miniconda3/envs/chemsource/lib/python3.13/site-packages/numpy/_core/fromnumeric.py:57: FutureWarning: 'DataFrame.swapaxes' is deprecated and will be removed in a future version. Please use 'DataFrame.transpose' instead.\n",
      "  return bound(*args, **kwds)\n"
     ]
    },
    {
     "data": {
      "application/vnd.jupyter.widget-view+json": {
       "model_id": "eef94807013842628da9463652bcd41d",
       "version_major": 2,
       "version_minor": 0
      },
      "text/plain": [
       "VBox(children=(HBox(children=(IntProgress(value=0, description='0.00%', max=7), Label(value='0 / 7'))), HBox(c…"
      ]
     },
     "metadata": {},
     "output_type": "display_data"
    },
    {
     "data": {
      "application/vnd.jupyter.widget-view+json": {
       "model_id": "5b5a30c6995b48c9b917237eed26c253",
       "version_major": 2,
       "version_minor": 0
      },
      "text/plain": [
       "VBox(children=(HBox(children=(IntProgress(value=0, description='0.00%', max=7), Label(value='0 / 7'))), HBox(c…"
      ]
     },
     "metadata": {},
     "output_type": "display_data"
    }
   ],
   "source": [
    "validation_data_chunks = validation_data_chunks[40:]\n",
    "validation_data_chunk_outnames = validation_data_chunk_outnames[40:]\n",
    "for dataframe, outname in zip(validation_data_chunks, validation_data_chunk_outnames):\n",
    "    dataframe[\"chemsource_output_search_gpt\"] = dataframe.parallel_apply(lambda x: model_openai_search.classify(name=x[\"name_used\"], information=\"\"), axis=1)\n",
    "    dataframe.to_csv(outname, index=True)\n",
    "    "
   ]
  },
  {
   "cell_type": "code",
   "execution_count": 13,
   "metadata": {},
   "outputs": [],
   "source": [
    "# Recombine chunks\n",
    "validation_data_chunks = [pd.read_csv(outname, index_col=0) for outname in validation_data_chunk_outnames]\n",
    "validation_data = pd.concat(validation_data_chunks, ignore_index=False)"
   ]
  },
  {
   "cell_type": "code",
   "execution_count": 15,
   "metadata": {},
   "outputs": [],
   "source": [
    "validation_data.to_csv(\"../data/output/validation_data_classified_all_3_methods.csv\", index=False)"
   ]
  },
  {
   "cell_type": "code",
   "execution_count": 58,
   "metadata": {},
   "outputs": [
    {
     "data": {
      "text/plain": [
       "pandas.core.frame.DataFrame"
      ]
     },
     "execution_count": 58,
     "metadata": {},
     "output_type": "execute_result"
    }
   ],
   "source": [
    "type(validation_data_chunks[0])"
   ]
  }
 ],
 "metadata": {
  "kernelspec": {
   "display_name": "chemsource",
   "language": "python",
   "name": "python3"
  },
  "language_info": {
   "codemirror_mode": {
    "name": "ipython",
    "version": 3
   },
   "file_extension": ".py",
   "mimetype": "text/x-python",
   "name": "python",
   "nbconvert_exporter": "python",
   "pygments_lexer": "ipython3",
   "version": "3.13.2"
  }
 },
 "nbformat": 4,
 "nbformat_minor": 2
}
