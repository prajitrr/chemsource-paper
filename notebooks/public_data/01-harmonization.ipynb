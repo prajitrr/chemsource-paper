{
 "cells": [
  {
   "cell_type": "code",
   "execution_count": 1,
   "id": "a2d13de5",
   "metadata": {},
   "outputs": [],
   "source": [
    "import pandas as pd\n",
    "\n",
    "import os\n",
    "import sys\n",
    "\n",
    "sys.path.append(os.path.abspath(\"../../src\"))\n",
    "from harmonization import harmonize_all_public_data"
   ]
  },
  {
   "cell_type": "code",
   "execution_count": 2,
   "id": "e083b7dd",
   "metadata": {},
   "outputs": [
    {
     "name": "stdout",
     "output_type": "stream",
     "text": [
      "Harmonized data for plasma saved to ../../data/public/harmonized/plasma_harmonized.parquet\n",
      "Harmonized data for dust saved to ../../data/public/harmonized/dust_harmonized.parquet\n",
      "Harmonized data for iss saved to ../../data/public/harmonized/iss_harmonized.parquet\n",
      "Harmonized data for mouse saved to ../../data/public/harmonized/mouse_harmonized.parquet\n",
      "Harmonized data for pcp saved to ../../data/public/harmonized/pcp_harmonized.parquet\n",
      "Harmonized data for food saved to ../../data/public/harmonized/food_harmonized.parquet\n",
      "Harmonized data for brain saved to ../../data/public/harmonized/brain_harmonized.parquet\n",
      "Harmonized data for feces saved to ../../data/public/harmonized/feces_harmonized.parquet\n"
     ]
    }
   ],
   "source": [
    "input_dir = \"../../data/public/raw\"\n",
    "output_dir = \"../../data/public/harmonized\"\n",
    "\n",
    "harmonize_all_public_data(input_dir, output_dir)"
   ]
  }
 ],
 "metadata": {
  "kernelspec": {
   "display_name": "chemsource-data-analysis",
   "language": "python",
   "name": "python3"
  },
  "language_info": {
   "codemirror_mode": {
    "name": "ipython",
    "version": 3
   },
   "file_extension": ".py",
   "mimetype": "text/x-python",
   "name": "python",
   "nbconvert_exporter": "python",
   "pygments_lexer": "ipython3",
   "version": "3.13.5"
  }
 },
 "nbformat": 4,
 "nbformat_minor": 5
}
