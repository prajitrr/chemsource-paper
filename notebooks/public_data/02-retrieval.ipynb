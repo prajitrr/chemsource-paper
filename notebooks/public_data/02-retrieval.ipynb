{
 "cells": [
  {
   "cell_type": "code",
   "execution_count": 1,
   "id": "7d059f6d",
   "metadata": {},
   "outputs": [],
   "source": [
    "import pandas as pd"
   ]
  },
  {
   "cell_type": "code",
   "execution_count": 2,
   "id": "5ca8fe96",
   "metadata": {},
   "outputs": [
    {
     "data": {
      "application/vnd.microsoft.datawrangler.viewer.v0+json": {
       "columns": [
        {
         "name": "index",
         "rawType": "int64",
         "type": "integer"
        },
        {
         "name": "FEATURE_ID",
         "rawType": "int64",
         "type": "integer"
        },
        {
         "name": "COMPOUND_NAME",
         "rawType": "object",
         "type": "string"
        },
        {
         "name": "SYNONYMS",
         "rawType": "object",
         "type": "unknown"
        },
        {
         "name": "DETECTION_FREQUENCY",
         "rawType": "float64",
         "type": "float"
        }
       ],
       "ref": "9dbb2837-4ba9-4363-a613-6227d6fe9db6",
       "rows": [
        [
         "0",
         "19",
         "Massbank:CE000230 Tyrosine",
         "['Tyrosine' 'H-dl-tyr-oh' 'Tyrosine, dl-' 'Tyrosin' '(.+-.)-tyrosine'\n 'Tyrosine-beta-13c' 'Tryosine' 'Tirosina' 'Benzenepropanoic acid, (s)-'\n 'Tyrosine (phenol-4-13c)' '(+-)-tyrosine' 'Tyrosine, [1-14c]-'\n 'P-tyrosine' 'Tyrozine' 'Tyrosine #' '(2s)-tyrosine' '(dl)-tyrosine'\n 'Tyrosine 25gr' 'Tyrosine, 99%' '(.+/-.)-tyrosine'\n '.alpha.-amino-.beta.-(4-hydroxyphenyl)propionic acid'\n 'Pharmakon1600-01300046' 'Tyrosine, puriss., >=99.0% (nt)'\n '2-amino-3-(4-hydroxyphenyl)propionic acid'\n '2-amino-3-(4-hydroxyphenyl)propionic acid, 3-(4-hydroxyphenyl)-d-alanine'\n 'Massbank:ce000230 tyrosine']",
         "0.0663900414937759"
        ],
        [
         "1",
         "313",
         "NCGC00385412-01_C21H32O10_2,4-Pentadienoic acid, 5-[(1R,3S,5R,8S)-3-(beta-D-glucopyranosyloxy)-8-hydroxy-1,5-dimethyl-6-oxabicyclo[3.2.1]oct-8-yl]-3-methyl-, (2Z,4E)-",
         "['(2z,4e)-5-[(1r,3r,5r,8s)-8-hydroxy-1,5-dimethyl-3-[(2r,3r,4s,5s,6r)-3,4,5-trihydroxy-6-(hydroxymethyl)oxan-2-yl]oxy-6-oxabicyclo[3.2.1]octan-8-yl]-3-methylpenta-2,4-dienoic acid']",
         "0.020746887966805"
        ],
        [
         "2",
         "333",
         "Phenylalanine - 40.00 eV",
         "['Phenylalanine' '2-amino-3-phenylpropanoic acid'\n '(2s)-2-amino-3-phenylpropanoic acid' '(l)-phenylalanine'\n '2-amino-3-phenylpropionic acid' 'Beta-phenyl-l-alanine'\n 'Antibiotic fn 1636' 'H-phe-oh' 'Alanine, phenyl-' 'Alanine, 3-phenyl-'\n 'Fenilalanina' 'Phenylalaninum' 'Alpha-amino-beta-phenylpropionic acid'\n 'Phenylalanine (van)' 'Beta-phenylalnine,' 'Fenilalanina [spanish]'\n 'Phenylalaninum [latin]' 'Alpha-aminohydrocinnamic acid'\n 'Alanine, phenyl-, l-' 'Endophenyl' 'Alpha-amino-benzenepropanoic acid'\n 'Phenylalanine, l-' 'Hydrocinnamic acid, alpha-amino-' 'Phe'\n 'Phenylalamine' 'Phenylalanine [usan:inn:jan]'\n 'Alpha-aminohydrocinnamic acid, l-'\n 'Alpha-amino-beta-phenylpropionic acid, l-'\n 'Benzenepropanoic acid, alpha-amino-, (s)-' 'Phenylalanin'\n 'Laevo-phenyl alanine' 'Phenylalinine' 'Beta-phenylalanine'\n 'Phenylalanine [usan:usp:inn:jan]' 'Phenylalaninum (latin)'\n 'Phenylalanine (l-phenylalanine)' 'Phenylalanine (usan:usp:inn:jan)'\n '.beta.-phenylalanine' 'Phenyl-.alpha.-alanine' '.beta.-phenyl-l-alanine'\n '.alpha.-aminohydrocinnamic acid' '.beta.-phenyl-.alpha.-alanine'\n 'Phenylalanine (usp/inn)' 'Phenylaniline'\n 'Hydrocinnamic acid, .alpha.-amino-' '.beta.-phenyl-.alpha.-alanine, l-'\n 'Phenyl alanine' 'Pheoh' '.alpha.-amino-.beta.-phenylpropionic acid'\n 'Phenylalanine1532' 'Racemic phenylalanine' 'Phenylalanine phenolic'\n 'Alpha-aminohydrocinnamate' 'Phenylalanine, 99%'\n 'Beta-phenyl-alpha-alanine' 'Phenylalanine (jp17)' 'Bmse000045'\n 'Bmse000900' 'Bmse000921' 'Bmse001016' 'Phenylalanine (h-phe-oh)'\n 'Phenylalanine [fcc]' 'Phenylalanine [jan]' 'Phenylalanine [fhfi]'\n 'Phenylalanine, 99%, fcc' 'Alpha-aminobenzenepropanoate'\n '2-amino-3-phenylpropanoate' '2-amino-3-phenylpropionate'\n 'Phenylalanine [usp-rs]' 'Phenylalanine non-animal source'\n 'Alpha-amino-benzenepropanoate' 'Propanoic acid, 2-amino-3-phenyl-'\n 'Alpha-aminobenzenepropanoic acid' '[2,3,4,5,6-3h]phenylalanine'\n 'Alpha-amino-beta-phenylpropionate' '.alpha.-aminobenzenepropanoic acid'\n 'Phenylalanine, vetec(tm), 98.5%' 'Phenylalanine, reagent grade, >=98%'\n 'Is_phenylalanine-2,3,4,5,6-d5' 'Phenylalanine, 99%, natural, fcc, fg'\n 'Benzenepropanoic acid, .alpha.-amino-, (s)-'\n 'Phenylalanine, bioultra, >=99.0% (nt)'\n 'Phenylalanine, saj special grade, >=99.0%'\n 'Phenylalanine, vetec(tm) reagent grade, >=98%'\n 'Phenylalanine, cell culture reagent (h-l-phe-oh)'\n 'Phenylalanine, certified reference material, tracecert(r)'\n 'Phenylalanine, european pharmacopoeia (ep) reference standard'\n 'Phenylalanine, united states pharmacopeia (usp) reference standard'\n 'Lphenylalanine; beta-phenylalanine;dl-2-amino-3-phenylpropanoic acid;'\n 'Phenylalanine, analytical standard, for nitrogen determination according to kjeldahl method'\n 'Phenylalanine, pharmaceutical secondary standard; certified reference material'\n 'Phenylalanine, from non-animal source, meets ep, jp, usp testing specifications, suitable for cell culture, 98.5-101.0%'\n 'Phenylalanine - 40.00 ev']",
         "0.228215767634855"
        ],
        [
         "3",
         "466",
         "2-[(4-hydroxy-3,5-dimethoxyphenyl)methoxy]-6-(hydroxymethyl)oxane-3,4,5-triol",
         "['2-[(4-hydroxy-3,5-dimethoxyphenyl)methoxy]-6-(hydroxymethyl)oxane-3,4,5-triol']",
         "0.210235131396957"
        ],
        [
         "4",
         "929",
         "D-TRYPTOPHAN - 50.0 eV",
         "['Tryptophan' 'H-d-trp-oh' 'Tryptophane' 'Dtryptophan'\n '(2r)-2-amino-3-(1h-indol-3-yl)propanoic acid' 'Trytophane'\n 'Tryptophan, d-' 'H-d-typ-oh' 'Trp' '2-amino-3-(3-indolyl)propionic acid'\n 'Tryptophan-d5' 'Alpha-amino-3-indolepropionic acid' 'Trp-oh'\n '(2r)-2-amino-3-(1h-indol-3-yl)propanoate' 'Delta-trytophane' 'Trypophan'\n 'Delta-tryptophane' 'Dtrp' 'H-delta-trp-oh' 'Delta-tryptophan'\n '2-amino-3-(1h-indol-3-yl)propanoic acid' 'S6253'\n 'Tryptophan, >=98.0% (hplc)' 'Cs-w013195'\n 'Delta-alpha-amino-3-indolepropionic acid']",
         "0.0484094052558783"
        ],
        [
         "5",
         "1042",
         "NCGC00347390-02!(2R,3S)-7-[(2S,3R,4R,5S)-3,4-dihydroxy-5-(hydroxymethyl)oxolan-2-yl]oxy-2-(3,4-dihydroxyphenyl)-3,4-dihydro-2H-chromene-3,5-diol",
         "['Catechin 7-arabinofuranoside'\n '(2r,3s)-7-[(2s,3r,4r,5s)-3,4-dihydroxy-5-(hydroxymethyl)oxolan-2-yl]oxy-2-(3,4-dihydroxyphenyl)-3,4-dihydro-2h-chromene-3,5-diol']",
         "0.024896265560166"
        ],
        [
         "6",
         "1239",
         "NCGC00385785-01!(2R,3R,4S,5S,6R)-2-[[2-(3,4-dihydroxyphenyl)-5,7-dihydroxy-3,4-dihydro-2H-chromen-3-yl]oxy]-6-(hydroxymethyl)oxane-3,4,5-triol",
         "['NCGC00385785-01!(2R,3R,4S,5S,6R)-2-[[2-(3,4-dihydroxyphenyl)-5,7-dihydroxy-3,4-dihydro-2H-chromen-3-yl]oxy]-6-(hydroxymethyl)oxane-3,4,5-triol']",
         "0.012448132780083"
        ],
        [
         "7",
         "1250",
         "Spectral Match to Procyanidin B2 from NIST14",
         "['Procyanidin b2' 'Procyanidol b2' 'Procyanidin b-2' 'Proanthocyanidin b2'\n 'Ec-(4b,8)-ec' 'Epicathechin-(4beta->8)-epicathechin'\n \"[4,8'-bi-2h-1-benzopyran]-3,3',5,5',7,7'-hexol, 2,2'-bis(3,4-dihydroxyphenyl)-3,3',4,4'-tetrahydro-, (2r,2'r,3r,3'r,4r)-\"\n '(2r,3r)-2-(3,4-dihydroxyphenyl)-8-[(2r,3r,4r)-2-(3,4-dihydroxyphenyl)-3,5,7-trihydroxy-3,4-dihydro-2h-chromen-4-yl]-3,4-dihydro-2h-chromene-3,5,7-triol'\n \"(2r-(2alpha,3alpha,4beta(2'r*,3'r*)))-2,2'-bis(3,4-dihydroxyphenyl)-3,3',4,4'-tetrahydro-(4,8'-bi-2h-1-benzopyran)-3,3',5,5',7,7'-hexol\"\n \"(4,8'-bi-2h-1-benzopyran)-3,3',5,5',7,7'-hexol, 2,2'-bis(3,4-dihydroxyphenyl)-3,3',4,4'-tetrahydro-, (2r-(2alpha,3alpha,4beta(2'r*,3'r*)))-\"\n \"(2r,2'r,3r,3'r,4r)-2,2'-bis(3,4-dihydroxyphenyl)-[4,8'-bichromane]-3,3',5,5',7,7'-hexaol\"\n \"(2r,2'r,3r,3'r,4r)-2,2'-bis(3,4-dihydroxyphenyl)-3,3',4,4'-tetrahydro-2h,2'h-4,8'-bichromene-3,3',5,5',7,7'-hexol\"\n \"(4,8'-bi-2h-1-benzopyran)-3,3',5,5',7,7'-hexol, 2,2'-bis(3,4-dihydroxyphenyl)-3,3',4,4'-tetrahydro-, (2r,2'r,3r,3'r,4r)-\"\n 'Procyanidin-b2' 'Procyanidin dimer b2'\n 'Procyanidin b2, analytical standard'\n 'Epicatechin-(4.beta.-8)-epicatechin'\n 'Epicatechin-(4beta->8)-epicatechin'\n 'Epicatechin-(4.beta.->8)-epicatechin'\n 'Cis,cis\"-4,8\"-bi(3,3\\',4\\',5,7-pentahydroxyflavane)'\n \"Cis&prime;-4,8&prime;-bi(3,3',4',5,7-pentahydroxyflavane)\"\n \"(2r,2'r,3r,3'r,4r)-2,2'-bis(3,4-dihydroxyphenyl)-4,8'-bichroman-3,3',5,5',7,7'-hexol\"\n '(2r,3r,4r)-2-(3,4-dihydroxyphenyl)-4-[(2r,3r)-2-(3,4-dihydroxyphenyl)-3,5,7-trihydroxy-3,4-dihydro-2h-1-benzopyran-8-yl]-3,4-dihydro-2h-1-benzopyran-3,5,7-triol'\n '(2r,3r,4r)-2-(3,4-dihydroxyphenyl)-4-[(2r,3r)-2-(3,4-dihydroxyphenyl)-3,5,7-trihydroxy-chroman-8-yl]chromane-3,5,7-triol'\n \"(2r-(2.alpha.,3.alpha.,4.beta.(2'r*,3'r*)))-2,2'-bis(3,4-dihydroxyphenyl)-3,3',4,4'-tetrahydro-(4,8'-bi-2h-1-benzopyran)-3,3',5,5',7,7'-hexol\"\n \"(4,8'-bi-2h-1-benzopyran)-3,3',5,5',7,7'-hexol, 2,2'-bis(3,4-dihydroxyphenyl)-3,3',4,4'-tetrahydro-, (2r-(2.alpha.,3.alpha.,4.beta.(2'r*,3'r*)))-\"]",
         "0.004149377593361"
        ],
        [
         "8",
         "1360",
         "Putative Lys-C7:1",
         "['Lys-c7:1']",
         "0.0110650069156293"
        ],
        [
         "9",
         "1745",
         "MoNA:611751 Alsadorm",
         "['Doxylamine' 'Dossilamina' 'Doxylaminum' 'Doxilminio'\n 'Doxylaminum [inn-latin]' 'Doxilamina' 'Doxilminio [inn-spanish]'\n 'N,n-dimethyl-2-(1-phenyl-1-pyridin-2-ylethoxy)ethanamine'\n 'N,n-dimethyl-2-(1-phenyl-1-(2-pyridinyl)ethoxy)ethanamine'\n 'Phenyl-2-pyridylmethyl-beta-n,n-dimethylaminoethyl ether' 'R-doxylamine'\n 'Doxylamine (inn)' 'Doxylaminephenyl-d5'\n 'Ethanamine, n,n-dimethyl-2-(1-phenyl-1-(2-pyridinyl)ethoxy)-'\n 'Ethanamine, n,n-dimethyl-2-[1-phenyl-1-(2-pyridinyl)ethoxy]-'\n 'Dossilamina [dcit]' 'Ec 207-414-2'\n 'Pyridine, 2-(alpha-(2-(dimethylamino)ethoxy)-alpha-methylbenzyl)-'\n 'Dimethyl({2-[1-phenyl-1-(pyridin-2-yl)ethoxy]ethyl})amine'\n 'Decapryn (tn)' 'Doxylaminum (inn-latin)' 'Doxilminio (inn-spanish)'\n 'Doxylamine [inn:ban]'\n 'Pyridine, 2-[.alpha.-[2-(dimethylamino)ethoxy]-.alpha.-methylbenzyl]-'\n 'S-doxylamine' '()-doxylamine' 'N,n-dimethyl-2-' 'Kbiogr_001135'\n 'Kbio2_001494' 'Kbio2_004062' 'Kbio2_006630'\n 'N,n-dimethyl-2-[(1-phenyl-1-pyridin-2-ylethyl)oxy]ethanamine'\n '.alpha.-dimethylaminoethoxyphenylmethyl-2-picoline'\n 'Phenyl-2-pyridylmethyl-.beta.-n,n-dimethylaminoethyl ether'\n 'N,n-dimethyl-2-(1-phenyl-1-(pyridin-2-yl)ethoxy)ethanamine'\n 'N,n-dimethyl-2-[1-phenyl-1-(2-pyridinyl)ethoxy]ethanamine #'\n 'N,n-dimethyl-2-(1-phenyl-1-(pyridin-2-yl)ethoxy)ethan-1-amine'\n 'Mona:611751 alsadorm']",
         "0.012448132780083"
        ],
        [
         "10",
         "1841",
         "PHENYLACETYL-GLUTAMINE",
         "['Phenylacetylglutamine' 'Phenylacetyl l-glutamine'\n '5-amino-5-oxo-2-(2-phenylacetamido)pentanoic acid'\n 'Phenylacetyl-l-glutamine' 'Alpha-n-phenylacetyl-l-glutamine'\n 'Glutamine, n2-(phenylacetyl)-' 'N(sup 2)-(phenylacetyl)glutamine'\n 'Glutamine, n2-(phenylacetyl)-, l-' 'N(2)-phenylacetyl-l-glutamine'\n 'N(2)-(phenylacetyl)-l-glutamine' 'Pa-l-glutamine'\n 'N-phenylacetyl-l-glutamine (phenylacetylglutamine)'\n 'Glutamine, n(sup 2)-(phenylacetyl)-, l-' 'N(sup 2)-(phenylacetyl)'\n 'Phenylac-gln-oh, aldrichcpr'\n '5-amino-5-oxo-2-(2-phenylacetamido)pentanoicacid'\n '(2s)-5-amino-5-oxo-2-[(2-phenylacetyl)amino]pentanoic acid'\n '(2s)-4-carbamoyl-2-(2-phenylacetamido)butanoic acid']",
         "0.0401106500691563"
        ],
        [
         "11",
         "2554",
         "(+)Catechin",
         "['Epicatechin' 'Catechin'\n 'Cis-2-(3,4-dihydroxyphenyl)-3,4-dihydro-2h-1-benzopyran-3,5,7-triol'\n 'Catechin (hydrate)'\n '(2r,3r)-2-(3,4-dihydroxyphenyl)-3,4-dihydro-1(2h)-benzopyran-3,5,7-triol'\n 'Epicatechol,' 'Catechins' 'Epct-pl' 'Catechin;cianidanol;catechuic acid'\n \"Cis-3,3',4',5,7-pentahydroxyflavane\" 'Epicatechin,'\n \"Trans-3,3',4',5,7-pentahydroxyflavane\" \"3,5,7,3',4'-pentahydroxyflavan\"\n 'Ec (c)'\n 'Catechin; racemic catechin; dl-catechin; dl-catechol; rac-catechin'\n 'Cis-(1)-2-(3,4-dihydroxyphenyl)-3,4-dihydro-2h-1-benzopyran-3,5,7-triol'\n \"3,3',4',5,7-flavanpentol\"\n 'Trans-2-(3,4-dihydroxyphenyl)-3,4-dihydro-1(2h)-benzopyran-3,5,7-triol'\n \"(?)-cis-3,3',4',5,7-pentahydroxyflavane\" '(+)catechin']",
         "0.0663900414937759"
        ],
        [
         "12",
         "2563",
         "NCGC00380723-01!(2S,3R,4S,5S,6R)-2-[4-[(3S,3aR,6S,6aR)-6-[3,5-dimethoxy-4-[(2S,3R,4S,5S,6R)-3,4,5-trihydroxy-6-(hydroxymethyl)oxan-2-yl]oxyphenyl]-1,3,3a,4,6,6a-hexahydrofuro[3,4-c]furan-3-yl]-2,6-dimethoxyphenoxy]-6-(hydroxymethyl)oxane-3,4,5-triol [IIN-based: Match]",
         "['Liriodendrin' 'Acanthoside d'\n '(2s,3r,4s,5s,6r)-2-[4-[(3s,3ar,6s,6ar)-6-[3,5-dimethoxy-4-[(2s,3r,4s,5s,6r)-3,4,5-trihydroxy-6-(hydroxymethyl)oxan-2-yl]oxyphenyl]-1,3,3a,4,6,6a-hexahydrofuro[3,4-c]furan-3-yl]-2,6-dimethoxyphenoxy]-6-(hydroxymethyl)oxane-3,4,5-triol'\n 'Syringaresinol-di-.beta.-d-glucopyranoside'\n \"Syringaresinol 4,4'-di-o-.beta.-d-glucopyranoside\"\n '((1s,3ar,4s,6ar)-tetrahydro-1h,3h-furo(3,4-c)furan-1,4-diyl)bis(2,6-dimethoxy-4,1-phenylene) bis-.beta.-d-glucopyranoside'\n '.beta.-d-glucopyranoside, ((1s,3ar,4s,6ar)-tetrahydro-1h,3h-furo(3,4-c)furan-1,4-diyl)bis(2,6-dimethoxy-4,1-phenylene) bis-'\n '.beta.-d-glucopyranoside, (tetrahydro-1h,3h-furo(3,4-c)furan-1,4-diyl)bis(2,6-dimethoxy-4,1-phenylene) bis-, (1s-(1.alpha.,3a.alpha.,4.alpha.,6a.alpha.))-'\n '[(1s,3ar,4s,6ar)-tetrahydro-1h,3h-furo[3,4-c]furan-1,4-diyl]bis(2,6-dimethoxy-4,1-phenylene) bis-beta-d-glucopyranoside'\n '[[(3s)-3aalpha,4,6,6aalpha-tetrahydro-1h,3h-furo[3,4-c]furan]-3alpha,6alpha-diyl]bis(2,6-dimethoxy-4,1-phenylene)bis(beta-d-glucopyranoside)']",
         "0.0221300138312586"
        ],
        [
         "13",
         "2585",
         "NCGC00169796-02_C20H30O10_2-Phenylethyl 6-O-(6-deoxy-alpha-L-mannopyranosyl)-beta-D-glucopyranoside",
         "['Beta-phenylethanol beta-d-rutinoside']",
         "0.0055325034578146"
        ],
        [
         "14",
         "3027",
         "Massbank:PB006005 Sinapine|2-[(E)-3-(4-hydroxy-3,5-dimethoxyphenyl)prop-2-enoyl]oxyethyl-trimethylazanium",
         "['(2-{[(2e)-3-(4-hydroxy-3,5-dimethoxyphenyl)prop-2-enoyl]oxy}ethyl)trimethylaminyl'\n 'Massbank:pb006005 sinapine|2-[(e)-3-(4-hydroxy-3,5-dimethoxyphenyl)prop-2-enoyl]oxyethyl-trimethylazanium']",
         "0.0013831258644536"
        ],
        [
         "15",
         "3530",
         "(2R,3S,4S,5R,6R)-5-[(2S,3R,4R)-3,4-dihydroxy-4-(hydroxymethyl)oxolan-2-yl]oxy-2-(hydroxymethyl)-6-[2-(4-hydroxyphenyl)ethoxy]oxane-3,4-diol",
         "['Darendoside a'\n 'Beta-(4-hydroxyphenyl)ethyl-o-beta-d-apiofuranosyl-(1-2)-o-beta-d-glucopyranoside'\n 'Beta-d-glucopyranoside, 2-(4-hydroxyphenyl)ethyl 2-o-d-apio-beta-d-furanosyl-'\n '(2r,3s,4s,5r,6r)-5-[(2s,3r,4r)-3,4-dihydroxy-4-(hydroxymethyl)oxolan-2-yl]oxy-2-(hydroxymethyl)-6-[2-(4-hydroxyphenyl)ethoxy]oxane-3,4-diol']",
         "0.0511756569847856"
        ],
        [
         "16",
         "3656",
         "Spectral Match to Procyanidin B2 from NIST14",
         "['Procyanidin b2' 'Procyanidol b2' 'Procyanidin b-2' 'Proanthocyanidin b2'\n 'Ec-(4b,8)-ec' 'Epicathechin-(4beta->8)-epicathechin'\n \"[4,8'-bi-2h-1-benzopyran]-3,3',5,5',7,7'-hexol, 2,2'-bis(3,4-dihydroxyphenyl)-3,3',4,4'-tetrahydro-, (2r,2'r,3r,3'r,4r)-\"\n '(2r,3r)-2-(3,4-dihydroxyphenyl)-8-[(2r,3r,4r)-2-(3,4-dihydroxyphenyl)-3,5,7-trihydroxy-3,4-dihydro-2h-chromen-4-yl]-3,4-dihydro-2h-chromene-3,5,7-triol'\n \"(2r-(2alpha,3alpha,4beta(2'r*,3'r*)))-2,2'-bis(3,4-dihydroxyphenyl)-3,3',4,4'-tetrahydro-(4,8'-bi-2h-1-benzopyran)-3,3',5,5',7,7'-hexol\"\n \"(4,8'-bi-2h-1-benzopyran)-3,3',5,5',7,7'-hexol, 2,2'-bis(3,4-dihydroxyphenyl)-3,3',4,4'-tetrahydro-, (2r-(2alpha,3alpha,4beta(2'r*,3'r*)))-\"\n \"(2r,2'r,3r,3'r,4r)-2,2'-bis(3,4-dihydroxyphenyl)-[4,8'-bichromane]-3,3',5,5',7,7'-hexaol\"\n \"(2r,2'r,3r,3'r,4r)-2,2'-bis(3,4-dihydroxyphenyl)-3,3',4,4'-tetrahydro-2h,2'h-4,8'-bichromene-3,3',5,5',7,7'-hexol\"\n \"(4,8'-bi-2h-1-benzopyran)-3,3',5,5',7,7'-hexol, 2,2'-bis(3,4-dihydroxyphenyl)-3,3',4,4'-tetrahydro-, (2r,2'r,3r,3'r,4r)-\"\n 'Procyanidin-b2' 'Procyanidin dimer b2'\n 'Procyanidin b2, analytical standard'\n 'Epicatechin-(4.beta.-8)-epicatechin'\n 'Epicatechin-(4beta->8)-epicatechin'\n 'Epicatechin-(4.beta.->8)-epicatechin'\n 'Cis,cis\"-4,8\"-bi(3,3\\',4\\',5,7-pentahydroxyflavane)'\n \"Cis&prime;-4,8&prime;-bi(3,3',4',5,7-pentahydroxyflavane)\"\n \"(2r,2'r,3r,3'r,4r)-2,2'-bis(3,4-dihydroxyphenyl)-4,8'-bichroman-3,3',5,5',7,7'-hexol\"\n '(2r,3r,4r)-2-(3,4-dihydroxyphenyl)-4-[(2r,3r)-2-(3,4-dihydroxyphenyl)-3,5,7-trihydroxy-3,4-dihydro-2h-1-benzopyran-8-yl]-3,4-dihydro-2h-1-benzopyran-3,5,7-triol'\n '(2r,3r,4r)-2-(3,4-dihydroxyphenyl)-4-[(2r,3r)-2-(3,4-dihydroxyphenyl)-3,5,7-trihydroxy-chroman-8-yl]chromane-3,5,7-triol'\n \"(2r-(2.alpha.,3.alpha.,4.beta.(2'r*,3'r*)))-2,2'-bis(3,4-dihydroxyphenyl)-3,3',4,4'-tetrahydro-(4,8'-bi-2h-1-benzopyran)-3,3',5,5',7,7'-hexol\"\n \"(4,8'-bi-2h-1-benzopyran)-3,3',5,5',7,7'-hexol, 2,2'-bis(3,4-dihydroxyphenyl)-3,3',4,4'-tetrahydro-, (2r-(2.alpha.,3.alpha.,4.beta.(2'r*,3'r*)))-\"]",
         "0.004149377593361"
        ],
        [
         "17",
         "3929",
         "Spectral Match to Undecaethylene glycol from NIST14",
         "['Undecaethylene glycol' 'Ho-peg11-oh' 'Oh-peg11-oh']",
         "0.0221300138312586"
        ],
        [
         "18",
         "6086",
         "Melatonin",
         "['Melatonin' 'Melatonine' 'N-acetyl-5-methoxytryptamine' 'Circadin'\n 'N-[2-(5-methoxy-1h-indol-3-yl)ethyl]acetamide' 'Melatol'\n 'N-(2-(5-methoxy-1h-indol-3-yl)ethyl)acetamide' 'Melovine'\n 'Acetamide, n-[2-(5-methoxy-1h-indol-3-yl)ethyl]-'\n 'N-[2-(5-methoxyindol-3-yl)ethyl]acetamide'\n 'N-acetyl-5-methoxy-tryptamine'\n 'Acetamide, n-(2-(5-methoxyindol-3-yl)ethyl)-'\n 'Acetamide, n-(2-(5-methoxy-1h-indol-3-yl)ethyl)-'\n 'N-(2-(5-methoxyindol-3-yl)ethyl)acetamide' 'Melatonex'\n 'Acetamide, n-[2-(5-methoxyindol-3-yl)ethyl]-' 'Melatonin (jan)'\n 'Melatonina' 'Melapure' 'Posidorm' 'Primex' '[3h]melatonin'\n 'Melatonina (tn)' '[3h]-melatonin'\n 'N-(2-(5-methoxyindol-3-yl)ethyl)-acetamide'\n 'N-[2-(5-methoxyindol-3-yl)ethyl]-acetamide'\n 'N-[2-(5-methoxy-1h-indol-3-yl)ethyl)acetamide' 'Somease' '[3h]mlt'\n 'Melatobel' 'Melaxen' 'Melatonine;' 'Guna-dermo' 'Amerix melatonin'\n 'Safrel melatonin' 'Melatonin phenolic' 'Melatobel (tn)' 'Melatonin1527'\n 'N-[2-(5-methoxy-1h-indol-3-yl)-ethyl]-acetamide' 'Therapeutic melatonin'\n 'Guna-dermo (salt/mix)' 'Lopac-m-5250' 'Chemdiv2_003916' 'M 5250'\n 'Melatonin, >=99.5%' 'Oprea1_104553' 'Oprea1_814234' 'Kbiogr_000591'\n 'Acetamide, {n-[2-(5-methoxyindol-3-yl)ethyl]-}'\n 'Melatonin (synth.) ultra-pure' 'Melatonin rapid release gelcaps'\n 'Acetamide, {n-[2-(5-methoxy-1h-indol-3-yl)ethyl]-}' 'Kbio2_000665'\n 'Kbio2_003233' 'Kbio2_005801' 'Melatonin 1.0 mg/ml in methanol'\n 'Melatonin (synth.) standard-grade' 'Melatonin, powder, >=98% (tlc)'\n 'Melatonin rapid release gelcaps 5 mg'\n 'N-acetyl-5-methoxy-tryptamine melatonine'\n '{n-[2-(5-methoxyindol-3-yl)ethyl]-} acetamide'\n 'N-[2-(5-methoxy-1h-indol-3-yl)ethyl]-acetamide'\n '{n-[2-(5-methoxy-1h-indol-3-yl)ethyl]-} acetamide'\n 'Melatonin, british pharmacopoeia (bp) reference standard'\n 'Acetamide, n-[2-(5-methoxyindol-3-yl)ethyl]- (6ci,8ci)'\n 'Acetamide, n-[2-(5-methoxy-1h-indol-3-yl)ethyl]- (9ci)'\n 'Melatonin, united states pharmacopeia (usp) reference standard'\n 'Melatonin, pharmaceutical secondary standard; certified reference material']",
         "0.0055325034578146"
        ],
        [
         "19",
         "7517",
         "Spectral Match to Bis(2,2,6,6-tetramethyl-4-piperidyl) sebacate from NIST14",
         "['Bis(2,2,6,6-tetramethyl-4-piperidyl) sebacate'\n 'Bis(2,2,6,6-tetramethylpiperidin-4-yl) decanedioate' 'Tinuvin 770'\n 'Bis(2,2,6,6-tetramethyl-4-piperidyl)sebacate' 'Sanol' 'Sanol 770'\n 'Eversorb 90' 'Sumisorb 577' 'Tinuvin 770df' 'Tinuvin 770ls'\n 'Sanol ls 700' 'Sanol ls 770' 'Mark la 77'\n 'Bis(2,2,6,6-tetramethyl-4-piperidinyl)sebacate'\n 'Bis(2,2,6,6-tetramethyl-4-piperidinyl) sebacate' 'Ls 770'\n 'Bis(2,2,6,6-tetramethylpiperidin-4-yl) sebacate'\n 'Bis(2,2,6,6-tetramethyl-4-piperidinyl) decanedioate' 'T 770'\n 'Sebacic acid bis(2,2,6,6-tetramethyl-4-piperidyl) ester'\n 'Decanedioic acid, 1,10-bis(2,2,6,6-tetramethyl-4-piperidinyl) ester'\n 'Antioxidant 770' 'Hillite 77' 'Viosorb 04' 'Adeka la 77' 'Uvinul 4077h'\n 'Decanedioic acid bis(2,2,6,6-tetramethyl-4-piperidyl) ester'\n 'Tinuvin770' 'Lowilite 77' 'Gw 480' 'Tn 770' 'Uvaseb 770' 'Ec 258-207-9'\n 'Cs-w013829' 'Bis(2,2,6,6,-tetramethyl-4-piperidyl)sebacate'\n 'Bis(2,2,6,6-tetramethylpiperdin-4-yl) sebacate'\n 'Bis(2,2,6,6-tetramethylpiperid-4-yl) sebacate'\n 'Bis(2,2,6,6-tetramethylpiperidin-4-yl)sebacate'\n 'Bis-(2,2,6,6-tetramethyl-4-piperidyl) sebacate'\n 'Di-(2,2,6,6-tetramethylpiperidin-4-yl) sebacate'\n 'Bis(2,2,6,6-tetramethylpiperidin-4-yl)decanedioate'\n 'Bis-(2,2,6,6-tetramethylpiperidin-4-yl) sebacate'\n 'Sebacic acid, bis(2,2,6,6-tetramethyl-4-piperidinyl) ester'\n 'Bis(2,2,6,6-tetramethyl-4-piperidyl) sebacate solution in acetonitrile, 1000mug/ml']",
         "0.0567081604426003"
        ],
        [
         "20",
         "8537",
         "NCGC00384602-01_C21H36O10_(2E)-3,7-Dimethyl-2,6-octadien-1-yl 6-O-[(2R,3R,4R)-3,4-dihydroxy-4-(hydroxymethyl)tetrahydro-2-furanyl]-beta-D-glucopyranoside",
         "['Acuminoside'\n '(2r,3s,4s,5r,6r)-2-[[(2r,3r,4r)-3,4-dihydroxy-4-(hydroxymethyl)oxolan-2-yl]oxymethyl]-6-[(2e)-3,7-dimethylocta-2,6-dienoxy]oxane-3,4,5-triol'\n '(2e)-3,7-dimethyl-2,6-octadien-1-yl 6-o-[(2r,3r,4r)-3,4-dihydroxy-4-(hydroxymethyl)tetrahydro-2-furanyl]-beta-d-glucopyranoside']",
         "0.10926694329184"
        ],
        [
         "21",
         "9611",
         "Spectral Match to Sinapyl alcohol from NIST14",
         "['Sinapyl alcohol' 'Sinapic alcohol' 'Sinapoyl alcohol'\n 'Trans-sinapyl alcohol' 'Sinapyl alcohol, (e)'\n '(e)-4-(3-hydroxyprop-1-en-1-yl)-2,6-dimethoxyphenol'\n 'Sinapyl alcohol (>85%)' '(e)-sinapyl alcohol' 'Sinapyl alcohol(e)'\n '(e)-sinapoyl alcohol' 'Bmse000612' 'Bmse010286'\n 'Sinapyl alcohol; sinapoyl alcohol'\n 'Sinapyl alcohol, technical grade, 80%'\n '(e)-4-(3-hydroxyprop-1-enyl)-2,6-dimethoxyphenol'\n 'Phenol, 4-(3-hydroxy-1-propenyl)-2,6-dimethoxy-'\n '(e)-3-(4-hydroxy-3,5-dimethoxyphenyl)-2-propen-1-ol'\n 'Phenol, 4-(3-hydroxy-1-propenyl)-2,6-dimethoxy-, (e)-'\n 'Phenol, 4-[(1e)-3-hydroxy-1-propenyl]-2,6-dimethoxy-']",
         "0.0221300138312586"
        ],
        [
         "22",
         "10210",
         "Massbank:EQ326203 Ketoconazole|1-[4-[4-[[(2R,4S)-2-(2,4-dichlorophenyl)-2-(imidazol-1-ylmethyl)-1,3-dioxolan-4-yl]methoxy]phenyl]piperazin-1-yl]ethanone",
         "['Ketoconazole' 'Xolegel' '(2r,4s)-ketoconazole' 'Kuric'\n 'Rac-trans-ketoconazole' 'Ketoconazole (k)' 'Ketoconazol'\n 'Ketoconazole,(s)' 'Opera_id_397'\n 'Ethanone, 1-[4-[4-[[(2r,4s)-2-(2,4-dichlorophenyl)-2-(1h-imidazol-1-ylmethyl)-1,3-dioxolan-4-yl]methoxy]phenyl]-1-piperazinyl]-'\n 'Ketoconazole, >=98% (hplc)'\n 'Piperazine, 1-acetyl-4-[4-[[(2r,4s)-2-(2,4-dichlorophenyl)-2-(1h-imidazol-1-ylmethyl)-1,3-dioxolan-4-yl]methoxy]phenyl]-, rel-'\n 'Ketoconazole 2.0 mg/ml in methanol' 'S1353'\n '( inverted exclamation marka)-ketoconazol'\n 'Cis-1-acetyl-4-[4-[[2-(2,4-dichlorophenyl)-2-(imidazol-1-ylmethyl)-1,3-dioxolan-4-yl]methoxy]phenyl]piperazine'\n 'Cis-1-acetyl-4-[4-[[2-(2,4-'\n 'Ketoconazole 100 microg/ml in acetonitrile' 'K 1003'\n 'Ketoconazole, antibiotic for culture media use only' 'R 41400'\n 'Ketoconazole, british pharmacopoeia (bp) reference standard'\n 'Ketoconazole, european pharmacopoeia (ep) reference standard'\n 'Ketoconazole, united states pharmacopeia (usp) reference standard'\n 'Dichlorophenyl)-2-(1h-imidazol-1-ylmethyl)-1,3-dioxolan-4-yl]methoxy]phenyl]-piperazine'\n 'Ketoconazole, pharmaceutical secondary standard; certified reference material'\n 'Cis-1-acetyl-4-(4-[(2-[2,4-dichlorophenyl]-2-[1h-imidazol-1-ylmethyl]-1,3-dioxolan-4-yl)-methoxy]phenyl)piperazine'\n '(2r,4s)-1-acetyl-4-(4-{[2-(2,4-dichlorophenyl)-2-(1h-imidazol-1-ylmethyl)-1,3-dioxolan-4-yl]methoxy}phenyl)piperazine'\n 'Cis-1-acetyl-4-[4-[[2-(2,4-dichlorophenyl)-2-(1h-imidazol-1-ylmethyl)-1,3-dioxolan-4-yl] methoxy]phenyl]piperazine'\n 'Kz'\n 'Piperazine, 1-acetyl-4-[4-[[2-(2,4-dichlorophenyl)-2-(1h-imidazol-1-ylmethyl)-1,3-dioxolan-4-yl]methoxy]phenyl]-'\n 'Massbank:eq326203 ketoconazole|1-[4-[4-[[(2r,4s)-2-(2,4-dichlorophenyl)-2-(imidazol-1-ylmethyl)-1,3-dioxolan-4-yl]methoxy]phenyl]piperazin-1-yl]ethanone']",
         "0.0525587828492393"
        ],
        [
         "23",
         "10896",
         "(1R)-(-)-Nopol CollisionEnergy:102040",
         "['Nopol' 'Homomyrtenol' 'Nopol (terpene)'\n 'Bicyclo[3.1.1]hept-2-ene-2-ethanol, 6,6-dimethyl-'\n 'Bicyclo(3.1.1)hept-2-ene-2-ethanol, 6,6-dimethyl-' 'Homomyretenol'\n 'Bicyclo[3.1.1]hept-2-ene-2-ethanol,6-dimethyl-'\n 'Bicyclo[3.1.1]hept-2-ene-2-ethanol, 6,6-dimethyl-, (1r)-'\n '(1r)-6,6-dimethylbicyclo[3.1.1]hept-2-ene-2-ethanol' '(1r)-nopol']",
         "0.0816044260027663"
        ],
        [
         "24",
         "10969",
         "\"9,10-dihydrojasmonic acid CollisionEnergy:102040\"",
         "['9,10-dihydrojasmonic acid' 'Dihydrojasmonic acid'\n '[(1r,2r)-3-oxo-2-pentylcyclopentyl]acetic acid'\n 'Cyclopentaneacetic acid, 3-oxo-2-pentyl-, (1r,2r)-'\n 'Cyclopentaneacetic acid, 3-oxo-2-pentyl-, (1r-trans)-'\n 'Rel-2-((1r,2r)-3-oxo-2-pentylcyclopentyl)acetic acid'\n '((1r,2r)-3-oxo-2-pentylcyclopentyl)acetic acid'\n 'Cyclopentaneacetic acid, 3-oxo-2-pentyl-, (1r,2r)- (9ci)'\n 'Starbld0003510' 'Dihydrojasmonic acid,'\n '(1r,2r)-3-oxo-2-pentylcyclopentaneacetic acid'\n '(+/-)(1r,2r)-3-oxo-2-pentylcyclopentaneacetic acid'\n '\"9,10-dihydrojasmonic acid \"']",
         "0.0013831258644536"
        ],
        [
         "25",
         "11033",
         "Ala-C8:0",
         "['Ala-C8:0']",
         "0.0013831258644536"
        ],
        [
         "26",
         "11224",
         "Massbank:AU235002 Flutamide|2-methyl-N-[4-nitro-3-(trifluoromethyl)phenyl]propanamide",
         "['Flutamide' 'Niftolide' 'Eulexin' 'Niftholide' 'Sch 13521' 'Niftolid'\n 'Drogenil' 'Cebatrol, veterinary' 'Flutamidum' 'Flutamida' 'Flutamin'\n 'Sch-13521' \"Ham's f-12 medium\"\n 'N-(4-nitro-3-(trifluoromethyl)phenyl)isobutyramide'\n 'Flutamidum [inn-latin]' 'Flutamida [inn-spanish]'\n 'Propanamide, 2-methyl-n-[4-nitro-3-(trifluoromethyl)phenyl]-'\n \"Alpha,alpha,alpha-trifluoro-2-methyl-4'-nitro-m-propionotoluidide\"\n 'Propanamide, 2-methyl-n-(4-nitro-3-(trifluoromethyl)phenyl)-'\n 'Flutamide [usan:usp:inn:ban]' 'Eulexine' 'Chimax'\n 'Flutamidum (inn-latin)'\n \"M-propionotoluidide, 2-methyl-4'-nitro-alpha,alpha,alpha-triflouro-\"\n \"M-propionotoluidide, alpha,alpha,alpha-trifluoro-2-methyl-4'-nitro-\"\n 'Flutamida (inn-spanish)' 'Flutamide usp25'\n 'Flutamide (usan:usp:inn:ban)' 'Prostandril' 'Odyne'\n \".alpha.,.alpha.,.alpha.-trifluoro-2-methyl-4'-nitro-m-propionotoluidide\"\n 'Eulexin (tn)' 'M-propionotoluidide,.alpha.,.alpha.-trifluoro-'\n 'N-[4-nitro-3-(trifluoromethyl)phenyl]isobutyramide' 'Flutamid'\n \".alpha.,.alpha.-trifluoro-2-methyl-4'-nitro-m-propionotoluidide\"\n \"M-propionotoluidide,.alpha.,.alpha.-trifluoro-2-methyl-4'-nitro-\"\n 'Flutamide,(s)' 'Flutamide (eulexin)' 'Lopac-f-9397'\n 'Flutamide (pubertal study)' 'F 9397' 'Kbiogr_001377'\n 'Flutamide (jp17/usp/inn)' 'Kbio2_001690' 'Kbio2_004258' 'Kbio2_006826'\n 'Pharmakon1600-01500995' 'S1908'\n \"M-propionotoluidide, .alpha.,.alpha.,.alpha.-trifluoro-2-methyl-4'-nitro-\"\n 'Flutamide, certified reference material, tracecert(r)'\n 'Flutamide, european pharmacopoeia (ep) reference standard'\n 'Flutamide, united states pharmacopeia (usp) reference standard'\n \"Alpha,alpha,alpha-trifluoro-2-methyl-4''-nitro-m-propionotoluidide\"\n \"M-propionotoluidide, 2-methyl-4'-nitro-.alpha.,.alpha.,.alpha.-trifluoro-\"\n 'Flutamide for system suitability, european pharmacopoeia (ep) reference standard'\n 'Massbank:au235002 flutamide|2-methyl-n-[4-nitro-3-(trifluoromethyl)phenyl]propanamide']",
         "0.0027662517289073"
        ],
        [
         "27",
         "11247",
         "Massbank:LU068404 N,N-Dimethyldecylamine oxide|1-Decanamine, N,N-dimethyl-, N-oxide|N,N-dimethyldecan-1-amine oxide",
         "['N,n-dimethyldecylamine n-oxide' 'Decylamine oxide'\n 'N,n-dimethyldecan-1-amine oxide' 'N,n-dimethyldecylamine oxide'\n 'N,n-dimethyldecylamine-n-oxide' 'Capric dimethyl amine oxide'\n 'Decyl dimethyl amine oxide' 'Decyl(dimethyl)amine oxide'\n 'N,n-dimethyldecanamine oxide' 'N,n-dimethyl-1-decanamine-n-oxide'\n 'Ec 220-020-5' 'N-decyl-n,n-dimethylamine-n-oxide'\n 'N,n-dimethyldecylamine n-oxide, >=99.0% (nt)'\n 'Massbank:lu068404 n,n-dimethyldecylamine oxide|1-decanamine, n,n-dimethyl-, n-oxide|n,n-dimethyldecan-1-amine oxide']",
         "0.0152143845089903"
        ],
        [
         "28",
         "12067",
         "Massbank:AU271206 Terbinafine|(E)-N,6,6-trimethyl-N-(naphthalen-1-ylmethyl)hept-2-en-4-yn-1-amine",
         "['Terbinafine' 'Lamisil' 'Lamasil'\n '(e)-n,6,6-trimethyl-n-(naphthalen-1-ylmethyl)hept-2-en-4-yn-1-amine'\n 'Lamisil tablet' 'Lamisil at' 'Terbinafina' 'Sf 86-327'\n '(e)-n-(6,6-dimethyl-2-hepten-4-ynyl)-n-methyl-1-naphthalenemethylamine'\n 'Terbinafin' 'Terbinafinum' 'Terbinex'\n '(e)-n-(6,6-dimethyl-2-hepten-4-ynyl)-n-methyl-1-naphthalene methanamine'\n 'Terbinafine free base' 'Ec 618-706-8'\n '(2e)-n,6,6-trimethyl-n-(1-naphthylmethyl)hept-2-en-4-yn-1-amine' 'Zabel'\n '(2e)-n,6,6-trimethyl-n-(naphthalen-1-ylmethyl)hept-2-en-4-yn-1-amine'\n 'N-[(2e)-6,6-dimethyl-2-hepten-4-yn-1-yl]-n-methyl-1-naphthalenemethanamine'\n '[(2e)-6,6-dimethylhept-2-en-4-yn-1-yl](methyl)[(naphthalen-1-yl)methyl]amine'\n 'Lamasil (tn)' 'Terbinafine (usan/inn)' 'Corbinal'\n 'Terbinafine [usan:inn:ban]'\n 'N,6,6-trimethyl-n-(1-naphthylmethyl)hept-2-en-4-yn-1-amine hydrochloride'\n 'Terbinafine, sf-86-327, lamisil, tbnf' 'Terbinafine (lamisil, terbinex)'\n '-ylmethyl)hept-2-en-4-yn-1-amine'\n '(e)-n,6,6-trimethyl-n-(1-naphthylmethyl)hept-2-en-4-yn-1-amine' 'S1725'\n '(e)-n,6,6-trimethyl-n-(naphthalen-1'\n '(6,6-dimethyl-hept-2-en-4-ynyl)-methyl-naphthalen-1-ylmethyl-amine'\n 'Sf 86-327; sf-86-327; sf86-327; lamasil; lamisil at'\n '((e)-6,6-dimethyl-hept-2-en-4-ynyl)-methyl-naphthalen-1-ylmethyl-amine'\n '(6,6-dimethylhept-2-en-4-yn-1-yl)(methyl)[(naphthalen-1-yl)methyl]amine'\n '(6,6-dimethyl-hept-2-en-4-ynyl)-methyl-naphthalen-1-ylmethyl-amine(terbinafine)'\n '[(e)-6,6-dimethyl-hept-2-en-4-ynyl]-methyl-(naphthalen-1-yl-methyl)-amine'\n 'Massbank:au271206 terbinafine|(e)-n,6,6-trimethyl-n-(naphthalen-1-ylmethyl)hept-2-en-4-yn-1-amine']",
         "0.020746887966805"
        ],
        [
         "29",
         "12470",
         "CocamidopropylBetaine",
         "['Lauramidopropylbetaine'\n '(carboxymethyl)(3-dodecanamidopropyl)dimethylazanium'\n 'N-(carboxymethyl)-3-(dodecanoylamino)-n,n-dimethylpropan-1-aminium'\n 'Cocamidopropyl betaine' 'Lauroylamide propylbetaine'\n 'Coco amido betaine' 'Amphoteric l' 'Mirataine cb' 'Amphitol 20ab'\n 'Cocamidopropylbetaine'\n '{[3-(dodecanoylamino)propyl](dimethyl)ammonio}acetate'\n 'Cocamidopropyl betaine, 30% in water'\n 'N-laurylamidopropyl-n,n-dimethylbetaine' 'Cocoamidopropyl betaine'\n 'Lauroylaminopropyldimethylaminoacetate' 'Cocoamidopropylbetaine'\n '(carboxymethyl)dimethyl-3-[(1-oxododecyl)amino]propylammonium hydroxide'\n 'Softazoline lpb' 'Obazoline cab' 'Alkateric cab-a' 'Anpholex lb 2'\n 'Rewoteric amb 12' 'Tego-betain l 90'\n '(3-(lauroylamino)propyl)dimethylaminoacetic acid'\n '[3-(lauroylamino)propyl]dimethylaminoacetic acid'\n 'Cocamidopropyl betaine (~30% aqueous solution)'\n 'Dimethyl(lauramidopropyl)betaine' 'Empigen br' 'Lexaine lm'\n 'Monateric lmab' 'Mackam lmb' 'Enagicol l 30b' 'Cocoamphodiproprionate'\n '(carboxymethyl)dimethyl-3-((1-oxododecyl)amino)propylammonium hydroxide'\n 'Lauroylamidopropylbetaine' 'Cocoamphocarboxypropionate' 'Lebon 2000l'\n 'Cocamidopropylbetaine-c12' 'Cocoyl amide propylbetaine'\n 'Cocamidopropyl dimethyl glycine'\n 'N-(3-cocoamidopropyl)-n,n-dimethyl-n-carboxymethyl betaine'\n 'N-cocamidopropyl-n,n-dimethylglycine, hydroxide, inner salt'\n '(3-laurylaminopropyl)dimethylaminoacetic acid, hydroxide, inner salt'\n 'N-(cocoamidopropyl)-n,n-dimethyl-n-carboxymethyl ammonium, betaine'\n 'N-(3-cocoamidopropyl)-n,n-dimethyl-n-carboxymethylammonium hydroxide, inner salt'\n 'Glycine, (3-lauramidopropyl)dimethylbetaine'\n 'Lauramidopropyl betaine ~35 wt. % in h2o' 'Ec 224-292-6'\n 'N-(dodecylamidopropyl)-n,n-dimethylammonium betaine'\n '(3-laurylaminopropyl)dimethylaminoacetic acid, inner salt'\n 'Amidopropylalkyl carboxymethyl dimethyl ammonium compound c12 (apacmdmac c12)'\n 'Ammonium, (carboxymethyl)(3-lauramidopropyl)dimethyl-, hydroxide, inner salt'\n 'N-[3-(dodecanoylamino)propyl]-n,n-dimethylglycinate; cocoamidopropylbetaine'\n 'N-(carboxymethyl)-n,n-dimethyl-3-((1-oxococonut)amino)-1-propanam- inium hydroxide, inner salt'\n 'N-(carboxymethyl)-n,n-dimethyl-3-((1-oxododecyl)amino)-1-propanam- inium hydroxide, inner salt']",
         "0.796680497925311"
        ],
        [
         "30",
         "12686",
         "Massbank:LU071402 N-[3-(Dimethylamino)propyl]dodecanamide",
         "['N-[3-(dimethylamino)propyl]dodecanamide' 'Lauramidopropyl dimethylamine'\n 'N-[3-(dimethylamino)propyl]lauramide' 'Dimethylaminopropyl lauramide'\n 'N-(3-(dimethylamino)propyl)dodecanamide' 'Lexamine l 13'\n 'Dodecanoylamidopropyldimethylamine' 'Lauric 3-dimethylaminopropylamide'\n 'Lauramidopropyldimethylamine' 'N-(3-dimethylaminopropyl)lauramide'\n 'Dodecanamide, n-[3-(dimethylamino)propyl]-'\n 'Lauroyl(dimethyl amino propyl)amine'\n 'N-(3-dimethylaminopropyl)dodecanamide'\n 'N-lauroyl-3-(dimethylamino)propylamine'\n 'Dodecanamide, n-(3-(dimethylamino)propyl)-'\n 'N,n-dimethyl-n-(3-dodecanamidopropyl)amine'\n 'N-(3-(dimethylamino)propyl)lauramide'\n '(laurylamidopropyl)dimethylamine; 3-dodecanamidopropyldimethylamine; 3-lauramidopropyldimethylamine; dimethylaminopropyllaurylamide; lexamine l 13'\n 'N,n-dimethyl-(3-dodecylamidopropyl)amine' 'Ec 221-661-3'\n 'N-(3-dimethylaminopropyl) lauramide'\n 'N-(3-dimethylaminopropyl)-lauramide' '(laurylamidopropyl)dimethylamine'\n 'N,n-dimethylaminopropyldodecylamide'\n 'N-[3-(dimethylamino)propyl]lauramide, 97%'\n \"N-dodecanoyl-n',n'-dimethyl-1,3-diaminopropane\"\n \"N,n-dimethyl-n'-dodecanoyl-1,3-propylenediamine\"\n 'Massbank:lu071402 n-[3-(dimethylamino)propyl]dodecanamide']",
         "0.175656984785615"
        ],
        [
         "31",
         "12752",
         "Massbank:AU285006 N-Methyldodecylamine|N-methyldodecan-1-amine",
         "['N-(4-(piperidin-1-ylsulfonyl)phenyl)acetamide'\n 'N-(4-(piperidin-1-ylsulphonyl)phenyl)acetamide'\n 'N-(4-piperidin-1-ylsulfonylphenyl)acetamide'\n 'N-[4-(piperidin-1-ylsulfonyl)phenyl]acetamide'\n 'N-[4-(piperidin-1-ylsulphonyl)phenyl]acetamide'\n 'N-[4-(acetylamino)phenylsulfonyl]piperidine'\n 'Acetamide, n-(4-(1-piperidinylsulfonyl)phenyl)-'\n 'Acetamide, n-[4-(1-piperidinylsulfonyl)phenyl]-'\n 'N-[4-(1-piperidinylsulfonyl)phenyl]acetamide'\n 'N-[4-(piperidine-1-sulfonyl)phenyl]acetamide' 'Cambridge id 5243409'\n 'Timtec1_005411' 'Oprea1_010973' 'Oprea1_109730'\n 'Acetamide, n-[4-(1-piperidinylsulphonyl)phenyl]-'\n 'N-(4-(piperidine-1-sulfonyl)-phenyl)-acetamide'\n 'Massbank:au285006 n-methyldodecylamine|n-methyldodecan-1-amine']",
         "0.0193637621023513"
        ],
        [
         "32",
         "12935",
         "Massbank:LU071701 epsilon-Decalactone|7-butyloxepan-2-one",
         "['Epsilon-decalactone' 'E-decalactone' '.epsilon.-decalactone'\n 'Epsilon-decalactone, >=99%' '.epsilon.-decalactone [fhfi]'\n '.epsilon.-decalactone,'\n 'Massbank:lu071701 epsilon-decalactone|7-butyloxepan-2-one']",
         "0.0138312586445367"
        ],
        [
         "33",
         "13444",
         "Spectral Match to 12(S)-Hydroxy-16-heptadecynoic acid from NIST14",
         "['(12s)-12-hydroxyheptadec-16-ynoic acid'\n '(12s)-hydroxy-16-heptadecynoic acid' '12-hydroxyheptadec-16-ynoic acid']",
         "0.004149377593361"
        ],
        [
         "34",
         "13456",
         "Massbank:AU285006 N-Methyldodecylamine|N-methyldodecan-1-amine",
         "['N-(4-(piperidin-1-ylsulfonyl)phenyl)acetamide'\n 'N-(4-(piperidin-1-ylsulphonyl)phenyl)acetamide'\n 'N-(4-piperidin-1-ylsulfonylphenyl)acetamide'\n 'N-[4-(piperidin-1-ylsulfonyl)phenyl]acetamide'\n 'N-[4-(piperidin-1-ylsulphonyl)phenyl]acetamide'\n 'N-[4-(acetylamino)phenylsulfonyl]piperidine'\n 'Acetamide, n-(4-(1-piperidinylsulfonyl)phenyl)-'\n 'Acetamide, n-[4-(1-piperidinylsulfonyl)phenyl]-'\n 'N-[4-(1-piperidinylsulfonyl)phenyl]acetamide'\n 'N-[4-(piperidine-1-sulfonyl)phenyl]acetamide' 'Cambridge id 5243409'\n 'Timtec1_005411' 'Oprea1_010973' 'Oprea1_109730'\n 'Acetamide, n-[4-(1-piperidinylsulphonyl)phenyl]-'\n 'N-(4-(piperidine-1-sulfonyl)-phenyl)-acetamide'\n 'Massbank:au285006 n-methyldodecylamine|n-methyldodecan-1-amine']",
         "0.302904564315353"
        ],
        [
         "35",
         "13618",
         "Massbank:AU284606 Lauryl diethanolamide|N,N-bis(2-hydroxyethyl)dodecanamide",
         "['N,n-bis(2-hydroxyethyl)dodecanamide' 'Lauric diethanolamide'\n 'Lauramide dea' 'Lauric acid diethanolamide' 'Lauryl diethanolamide'\n 'Lauroyl diethanolamide' 'Standamidd ld' 'Alkamide le' 'Rolamid cd'\n 'Condensate pl' 'Dodecanamide, n,n-bis(2-hydroxyethyl)-' 'Comperlan ld'\n 'Mackamide ll' 'Standamid ld' 'Diethanollauramide' 'Hetamide ml'\n 'Mackamide llm' 'Richamide std' 'Crillon lde' 'Empilan lde' 'Ethylan mld'\n 'Rewomid dlms' 'Stepan lda' 'N,n-bis(2-hydroxyethyl)lauramide'\n 'Coco diethanolamide' 'Varamid ml 1' 'Varamide ml 1'\n 'Lauroyldiethanolamine' 'Clindrol 100l' 'Clindrol 101cg' 'Clindrol 203cg'\n 'Clindrol 210cgn' 'Monamide 150lw' 'Richamide 6310' 'Super amide l-9a'\n 'Super amide l-9c' 'Synotol l-60' 'Unamide j-56' 'Aminon l 02'\n 'Onyxol 345' 'Bis(2-hydroxyethyl)lauramide' 'N,n-diethanollauramide'\n 'N,n-diethylollauramide' 'Rewomid dl 203/s' 'Ninol p-621'\n 'Steinamid dl 203 s' 'N,n-bis(hydroxyethyl)lauramide' 'Ninol 4821'\n 'Diethanolamine lauroylamide' 'Clindrol superamide 100l' 'Crillon l.d.e.'\n 'Lauric acid diethanolamine condensate' 'N,n-diethanollauric acid amide'\n 'N,n-di(2-hydroxyethyl)lauramide' 'N,n-bis(2-hydroxyethyl)laurylamide'\n 'N,n-bis(2-hydroxyethyl)lauroylamide' 'Lauric acid diethanolamine'\n 'Lauric acid diethanolamine condensate (1:1)' 'Lankrostat jp'\n 'Incromide lr' 'Lauramido dea' 'Lalmin d' 'Ninol aa62' 'Clindrol 200l'\n 'Chemistat 2500' 'Ninol aa-62 extra' 'Chemstat ld 100' 'Monamid 150-lw'\n 'Caswell no. 519a' 'Duspar la 2000' 'Lauric diethanol amide'\n 'N,n-bis(beta-hydroxyethyl)lauramide'\n 'Methyl laurate-diethanolamine condensate' 'Clindrol' 'Hartamide lda'\n 'Stremid k' 'Ablumide lde' 'Diethanol lauramide' 'Mackamide l10'\n 'Schercomid sl-ex' 'Carsamide sal-7' 'Dehydat 10' 'Lauric-diethanolamide'\n 'Alkamide 327' 'Schercomid sl-extra' 'Witcamide 5138' 'Witcamide 5195'\n 'Clindrol 200 l' 'Monamid 150 lw' 'Ninol aa 62 extra'\n 'N-lauroyldiethanolamine' 'Monamid 150-lmwc' 'Ninol 30-ll' 'Ninol aa 62'\n 'Pionin d 1110' 'N,n-diethanoldodecanamide' 'N-dodecanoyldiethanolamine'\n 'Diethanolamide lauric acid' 'Diethanol lauric acid amide' 'Ec 204-393-1'\n 'Lauric acid-diethanol amide' 'Schercomid 1214 (salt/mix)'\n 'Diethanolamide of methyl laurate' 'Lauramide, n,n-bis(hydroxyethyl)-'\n 'Lauric acid diethanolamide, aldrichcpr' 'Cs-w005513'\n 'N,n-bis(.beta.-hydroxyethyl)lauramide'\n 'N pound notn-bis(2-hydroxyethyl)dodecanamide'\n 'N,n-di(2-hydroxyethyl)lauramide [hsdb]'\n 'Lauric acid diethanolamide solution in methanol, 1000mug/ml'\n 'N,n-bis(2-hydroxyethyl)dodecanamide, 9ci. n,n-bis(2-hydroxyethyl)lauramide'\n 'Massbank:au284606 lauryl diethanolamide|n,n-bis(2-hydroxyethyl)dodecanamide']",
         "0.178423236514523"
        ],
        [
         "36",
         "14209",
         "Piperanine",
         "['Piperanine' 'Piperanin'\n '(e)-5-(1,3-benzodioxol-5-yl)-1-piperidin-1-ylpent-2-en-1-one'\n 'Piperidine, 1-(5-(1,3-benzodioxol-5-yl)-1-oxo-2-pentenyl)-, (e)-'\n 'Piperidine, 1-[(2e)-5-(1,3-benzodioxol-5-yl)-1-oxo-2-pentenyl]-'\n 'Piperidine, 1-[5-[3,4-(methylenedioxy)phenyl]-2-pentenoyl]-, (e)-'\n '(e)-5-(benzo[d][1,3]dioxol-5-yl)-1-(piperidin-1-yl)pent-2-en-1-one'\n 'Piperidine, 1-[5-(1,3-benzodioxol-5-yl)-1-oxo-2-pentenyl]-, (e)-'\n 'Da,b-dihydropiperine' 'B-hydropiperylpiperidine'\n 'Dalpha,beta-dihydropiperine'\n '(2e)-5-(2h-1,3-benzodioxol-5-yl)-1-(piperidin-1-yl)pent-2-en-1-one'\n 'Delata-alpha,beta-dihydropiperine' 'Piperanine, >=95% (lc/ms-elsd)'\n 'Trans-5-(3,4-methylenedioxyphenyl)-2-pentenoic acid piperidide'\n '(2e)-5-(1,3-benzodioxol-5-yl)-1-(1-piperidinyl)-2-penten-1-one']",
         "0.0069156293222683"
        ],
        [
         "37",
         "14285",
         "MassbankEU:SM876801 N,N-Dimethyldodecylamine N-oxide|Lauramine oxide|N,N-dimethyldodecan-1-amine oxide",
         "['Lauramine oxide' 'Lauryldimethylamine oxide'\n 'Dodecyldimethylamine oxide' 'Lauryldimethylamine n-oxide'\n 'N,n-dimethyldodecan-1-amine oxide' 'N,n-dimethyldodecylamine n-oxide'\n 'Ammonyx ao' 'Empigen ob' 'Ammonyx lo' 'Dimethyldodecylamine oxide'\n 'Aromox dmcd' 'Conco xal' 'Dimethylaurylamine oxide'\n 'Dodecyldimethylamine n-oxide' 'Dodecyl(dimethyl)amine oxide'\n 'N-dodecyldimethylamine oxide' 'Dimethyldodecylamine n-oxide'\n 'Aromox dmmc-w' 'Amonyx ao' 'Dimethyllaurylamine oxide'\n 'N,n-dimethyldodecylamine oxide' 'N,n-dimethyldodecylamine-n-oxide'\n 'Refan' 'Lauryl dimethyl amine oxide' 'N-lauryldimethylamine n-oxide'\n 'N-lauryl-n,n-dimethylamine oxide' 'Laurylamine oxide'\n 'Oxyde de dimethyllaurylamine' 'N,n-dimethyl-1-dodecanamine-n-oxide'\n 'N,n-dimethyl-dodecylaminoxid' 'Dodecylamine, n,n-dimethyl-, n-oxide'\n 'Imethylauroylamine oxide' 'N,n-dimethyl lauramine oxide'\n 'Amine oxide, dodecyl(dimethyl)-' 'Lauryl dimethylamine oxide'\n 'Ec 216-700-6' 'N,n-dimethyldodecan-1-amine n-oxide' 'Refan [russian]'\n 'N,n-dimethyl-1-dodecylamine n-oxide'\n 'N,n-dimethyl-dodecylaminoxid [czech]'\n 'Oxyde de dimethyllaurylamine [french]' 'Cyclomox l' 'Rhodamox l'\n 'Softamine l' 'Genaminox la' 'Schercamox dml' 'Rhodamox lo' 'Oxamin lo'\n 'Emcol l' 'Incromine oxide l' 'Emcol lo' 'Unisafe a-lm' 'Amphitol 20n'\n 'Barlox 12i' 'Rewominox l 408' 'Ammonyx dmcd 40' 'Stepsept pb-50'\n 'Admox 12' 'Aromox dm 12d' 'Aromox dm 12w' 'Oxidet dm 20'\n 'Aromox dm 12d-w' 'Emal 20n' 'Atlas cd 413' 'Tomah ao 728'\n 'Aromox dm 12dw(c)' 'Ammonyx c10 amine oxide'\n 'Lauryldimethylamine-n-oxide' 'N,n-dimethyldodecyclamine n-oxide'\n 'N-dodecyl-n,n-dimethylamine n-oxide'\n 'Dodecylamine, n,n-dimethyl-, n-oxide (6ci,8ci)'\n 'N,n-dimethyldodecylamine n-oxide (ca. 30% in water)'\n 'N,n-dimethyldodecylamine n-oxide, >=99% (titration)'\n 'N,n-dimethyldodecylamine n-oxide, bioxtra, >=99.0% (nt)'\n 'N,n-dimethyldodecan-1-amine oxide, 30wt.% solution in h2o'\n 'Massbankeu:sm876801 n,n-dimethyldodecylamine n-oxide|lauramine oxide|n,n-dimethyldodecan-1-amine oxide']",
         "0.467496542185339"
        ],
        [
         "38",
         "14417",
         "Spectral Match to 8,9-Dihydroxy-5Z,11Z,14Z-eicosatrienoic acid from NIST14",
         "['(+/-)8,9-dihetre'\n '(5z,11z,14z)-8,9-dihydroxyicosa-5,11,14-trienoic acid' '(+/-)8,9-dhet'\n '(5z,11z,14z)-8,9-dihydroxyeicosa-5,11,14-trienoic acid'\n '(5z,11z,14z)-8,9-dihydroxyicosa-5,11,14-trienoate' '(??)8(9)-dihet'\n '(5z,11z,14z)-8,9-dihydroxyicosatrienoic acid'\n '(5z,11z,14z)-8,9-dihydroxy-5,11,14-icosatrienoic acid'\n '(5z,11z,14z)-8,9-dihydroxyeicosa-5,11,14-trienoate']",
         "0.117565698478562"
        ],
        [
         "39",
         "14565",
         "PIPERINE",
         "['Piperine' 'Piperin' 'Bioperine' 'Piperoylpiperidine'\n '(e,e)-1-piperoylpiperidine' 'Piperidine, 1-piperoyl-, (e,e)-'\n '(2e,4e)-5-(benzo[d][1,3]dioxol-5-yl)-1-(piperidin-1-yl)penta-2,4-dien-1-one'\n 'N-[(e,e)-piperoyl]piperidine' 'Ai 3-01439' 'Piperine [usp]'\n 'N-(e,e)-piperoyl-piperidine'\n '(2e,4e)-5-(2h-1,3-benzodioxol-5-yl)-1-(piperidin-1-yl)penta-2,4-dien-1-one'\n 'Piperidine, 1-[(2e,4e)-5-(1,3-benzodioxol-5-yl)-1-oxo-2,4-pentadienyl]-'\n '(2e,4e)-5-(1,3-benzodioxol-5-yl)-1-piperidin-1-ylpenta-2,4-dien-1-one'\n 'Piperidine, 1-(5-(1,3-benzodioxol-5-yl)-1-oxo-2,4-pentadienyl)-, (e,e)-'\n 'Piperine (usp)'\n 'Piperidine, 1-(5-(3,4-methylenedioxyphenyl)-1-oxo-2,4-pentadienyl)-'\n 'Piperidine, 1-((2e,4e)-5-(1,3-benzodioxol-5-yl)-1-oxo-2,4-pentadienyl)-'\n 'Piperidine, 1-[5-(1,3-benzodioxol-5-yl)-1-oxo-2,4-pentadienyl]-, (e,e)-'\n 'N-((e,e)-piperoyl)piperidine'\n '(e,e)-1-(5-(1,3-benzodioxol-5-yl)-2,4-pentadienoyl)piperidine'\n 'Piperine (aliphatic)' 'Piperidine, 1-piperoyl-'\n 'Bioperine;1-piperoylpiperidine' 'Piperine,(s)' 'Piperine1537'\n 'Piperine, >=97%' 'Starbld0008505' 'Piperidine, (e,e)-'\n 'Piperine, >=97%, fg' 'Piperine, analytical standard'\n 'N-ee-piperoyl-piperidine' 'Piperine (1-piperoylpiperidine)'\n 'Pharmakon1600-01500873'\n '((1-5-(1,3)-benzodioxol-5-yl)-1-oxo-2,4-pentadienyl)piperidine'\n '(1-(5-(1,3)-benzodioxol-5-yl)-1-oxo-2,4-pentadienyl)piperidine' 'S2344'\n '(2e,4e)-5-(1,3-benzodioxol-5-yl)-1-(1-piperidyl)penta-2,4-dien-1-one'\n '(piperidin-1-yl)penta-2,4-dien-1-one'\n '(2e,4e)-5-(benzo[d][1,3]dioxol-5-yl)-1-'\n 'Piperine, european pharmacopoeia (ep) reference standard'\n '(e,e)-5-(3,4-methylenedioxyphenyl)-2,4-pentadienoylpiperidide'\n 'Piperine, united states pharmacopeia (usp) reference standard'\n 'Piperidine,3-benzodioxol-5-yl)-1-oxo-2,4-pentadienyl]-, (e,e)-'\n '(e,e) 1-[5-(1,3-benzodioxol-5-yl)-1-oxo-2,4-pentadienyl]piperidine'\n '(2e,4e)-5-(1,3-dioxaindan-5-yl)-1-(piperidin-1-yl)penta-2,4-dien-1-one']",
         "0.0442600276625173"
        ],
        [
         "40",
         "14694",
         "Spectral Match to Azelaic acid from NIST14",
         "['Azelaic acid' 'Finacea' 'Anchoic acid' 'Azelex' 'Lepargylic acid'\n 'Skinoren' 'Heptanedicarboxylic acid' 'N-nonanedioic acid' 'Emerox 1110'\n 'Emerox 1144' 'Azelate' 'Acide azelaique' 'Acidum azelaicum' 'Finevin'\n 'Acido azelaico' 'Azelainic acid' 'Azelaic acid, technical grade'\n 'Skinorem' 'Zk 62498' \"Emery's l-110\" 'Acidum azelaicum [latin]'\n 'Azelainsaeure' 'Nonandisaeure' 'Ec 204-669-1' 'Acidum azelaicum (latin)'\n 'Azalaic acid' 'Acide azelaique [french]' 'Acido azelaico [spanish]'\n 'Heptane-1,7-dicarboxylic acid' 'Azelaic acid [usan:inn]' 'Azelaic'\n 'Finacea (tn)' 'Azelaic acid 99%' 'Azelex (tn)' 'Azelaic acid (usan/inn)'\n 'Azelaicacidtech' 'Azelainsaure' 'Lepargylate' 'Nonandisaure' 'Anchoate'\n 'Azelaic-acid' 'N-nonanedioate' 'Acidum acelaicum' 'Finacea foam'\n 'Azelaic acid gel' 'Azelaic acid, 98%' 'Water-solubleazelaicacid'\n 'Opera_id_740' 'Water-soluble azelaic acid' 'Epitope id:187039'\n 'Lopac-246379' 'Kbiogr_000662' 'Nonanedioic acid azelaic acid'\n 'Kbio2_000437' 'Kbio2_003005' 'Kbio2_005573'\n 'Azelaic acid, analytical standard' 'Pharmakon1600-01500648'\n 'Azelaic acid, technical grade, 80%' 'S4550'\n 'Azelaic acid, technical, ~85% (gc)'\n 'Azelaic acid, vetec(tm) reagent grade'\n 'Dicarboxylic acid c9; nonanedioic acid; aza']",
         "0.0069156293222683"
        ],
        [
         "41",
         "15143",
         "Massbank: Myristamidopropyl betaine|carboxymethyl-dimethyl-[3-(tetradecanoylamino)propyl]azanium",
         "['N-(carboxymethyl)-n,n-dimethyl-3-(tetradecanoylamino)propan-1-aminium'\n 'Myristamidopropyl betaine|carboxymethyl-dimethyl-[3-(tetradecanoylamino)propyl]azanium']",
         "0.648686030428769"
        ],
        [
         "42",
         "15492",
         "Lauryl diethanolamide",
         "['N,n-bis(2-hydroxyethyl)dodecanamide' 'Lauric diethanolamide'\n 'Lauramide dea' 'Lauric acid diethanolamide' 'Lauryl diethanolamide'\n 'Lauroyl diethanolamide' 'Standamidd ld' 'Alkamide le' 'Rolamid cd'\n 'Condensate pl' 'Dodecanamide, n,n-bis(2-hydroxyethyl)-' 'Comperlan ld'\n 'Mackamide ll' 'Standamid ld' 'Diethanollauramide' 'Hetamide ml'\n 'Mackamide llm' 'Richamide std' 'Crillon lde' 'Empilan lde' 'Ethylan mld'\n 'Rewomid dlms' 'Stepan lda' 'N,n-bis(2-hydroxyethyl)lauramide'\n 'Coco diethanolamide' 'Varamid ml 1' 'Varamide ml 1'\n 'Lauroyldiethanolamine' 'Clindrol 100l' 'Clindrol 101cg' 'Clindrol 203cg'\n 'Clindrol 210cgn' 'Monamide 150lw' 'Richamide 6310' 'Super amide l-9a'\n 'Super amide l-9c' 'Synotol l-60' 'Unamide j-56' 'Aminon l 02'\n 'Onyxol 345' 'Bis(2-hydroxyethyl)lauramide' 'N,n-diethanollauramide'\n 'N,n-diethylollauramide' 'Rewomid dl 203/s' 'Ninol p-621'\n 'Steinamid dl 203 s' 'N,n-bis(hydroxyethyl)lauramide' 'Ninol 4821'\n 'Diethanolamine lauroylamide' 'Clindrol superamide 100l' 'Crillon l.d.e.'\n 'Lauric acid diethanolamine condensate' 'N,n-diethanollauric acid amide'\n 'N,n-di(2-hydroxyethyl)lauramide' 'N,n-bis(2-hydroxyethyl)laurylamide'\n 'N,n-bis(2-hydroxyethyl)lauroylamide' 'Lauric acid diethanolamine'\n 'Lauric acid diethanolamine condensate (1:1)' 'Lankrostat jp'\n 'Incromide lr' 'Lauramido dea' 'Lalmin d' 'Ninol aa62' 'Clindrol 200l'\n 'Chemistat 2500' 'Ninol aa-62 extra' 'Chemstat ld 100' 'Monamid 150-lw'\n 'Caswell no. 519a' 'Duspar la 2000' 'Lauric diethanol amide'\n 'N,n-bis(beta-hydroxyethyl)lauramide'\n 'Methyl laurate-diethanolamine condensate' 'Clindrol' 'Hartamide lda'\n 'Stremid k' 'Ablumide lde' 'Diethanol lauramide' 'Mackamide l10'\n 'Schercomid sl-ex' 'Carsamide sal-7' 'Dehydat 10' 'Lauric-diethanolamide'\n 'Alkamide 327' 'Schercomid sl-extra' 'Witcamide 5138' 'Witcamide 5195'\n 'Clindrol 200 l' 'Monamid 150 lw' 'Ninol aa 62 extra'\n 'N-lauroyldiethanolamine' 'Monamid 150-lmwc' 'Ninol 30-ll' 'Ninol aa 62'\n 'Pionin d 1110' 'N,n-diethanoldodecanamide' 'N-dodecanoyldiethanolamine'\n 'Diethanolamide lauric acid' 'Diethanol lauric acid amide' 'Ec 204-393-1'\n 'Lauric acid-diethanol amide' 'Schercomid 1214 (salt/mix)'\n 'Diethanolamide of methyl laurate' 'Lauramide, n,n-bis(hydroxyethyl)-'\n 'Lauric acid diethanolamide, aldrichcpr' 'Cs-w005513'\n 'N,n-bis(.beta.-hydroxyethyl)lauramide'\n 'N pound notn-bis(2-hydroxyethyl)dodecanamide'\n 'N,n-di(2-hydroxyethyl)lauramide [hsdb]'\n 'Lauric acid diethanolamide solution in methanol, 1000mug/ml'\n 'N,n-bis(2-hydroxyethyl)dodecanamide, 9ci. n,n-bis(2-hydroxyethyl)lauramide']",
         "0.262793914246196"
        ],
        [
         "43",
         "15950",
         "Massbank: N-lauroylethanolamine|N-(2-hydroxyethyl)dodecanamide",
         "['N-(2-hydroxyethyl)dodecanamide' 'Lauric acid monoethanolamide'\n 'Lauramide mea' 'N-lauroylethanolamine' 'Laurylethanolamide' 'Amisol lde'\n 'Copramyl' 'Lauric monoethanolamide' 'Vistalan'\n 'Dodecanamide, n-(2-hydroxyethyl)-' 'Ultrapole h' 'Comperlan lm'\n 'Cyclomide lm' 'Lauridit lm' 'Lauroyl-ea' 'Rolamid cm' 'Stabilor cmh'\n 'Crillon lme' 'Lauric ethylolamide' 'Lauroyl monoethanolamide'\n 'N-(2-hydroxyethyl)lauramide' 'Steinamid l 203' 'Rewomid l 203'\n 'Laurylamidoethanol' 'Amisol lme' 'Lauric acid ethanolamide'\n 'Lauric acid monoethanolamine' 'Lauryl ethanolamide'\n 'Lauroyl-ethanolamine' 'Lauric n-(2-hydroxyethyl)amide'\n 'Monoethanolamine lauric acid amide' 'N-(dodecanoyl)-ethanolamine'\n 'N-(dodecanoyl)ethanolamine' 'Dodecylethanol amide'\n 'Coconut monoethanolamide' 'Incromide lcl' 'Mackamide lmm' 'Ablumide lme'\n 'Hartamide lmea' 'Lauroylethanolamide' 'Stabilor c.m.h.' 'Crillon l.m.e.'\n 'Alkamide l-203' 'Dodecanoyl ethanolamide' 'Lauryl monoethanolamide'\n 'N-dodecanoylethanolamine' 'Empilan lme (salt/mix)' 'Lauramide-mea (1:1)'\n 'Cocomonoethanolamide (salt/mix)' 'N-(2-hydroxyethyl)dodecaneamide'\n 'Dodecanamide, n-2-hydroxyethyl-' 'Cs-w022897'\n 'Lauric acid monoethanolamide, aldrichcpr'\n 'N-(2-hydroxyethyl)dodecanamide [hsdb]'\n 'N-lauroylethanolamine|n-(2-hydroxyethyl)dodecanamide']",
         "0.34716459197787"
        ],
        [
         "44",
         "16552",
         "Spectral Match to Benzyldodecyldimethylammonium from NIST14",
         "['Benzododecinium' 'Ajatin' 'Benzyldodecyldimethylammonium'\n 'Benzyl-dodecyl-dimethylazanium' 'Benzododecinium ion'\n 'Dimethyllaurylbenzylammonium' 'Lauryldimethylbenzylammonium'\n 'Benzyldimethyldodecylammonium ion'\n 'N-benzyl-n,n-dimethyldodecan-1-aminium'\n 'N-benzyl-n-dodecyl-n,n-dimethylammonium'\n 'Ammonium, benzyldodecyldimethyl-'\n 'N-dodecyl-n,n-dimethylbenzenemethanaminium'\n 'Benzenemethanaminium, n-dodecyl-n,n-dimethyl-'\n 'Dimethyldodecylbenzylammonium' 'Dodecyldimethyl(benzyl)aminium'\n 'Benzalkonium chloride (c12)' 'Dimethyl(benzyl)(dodecyl)aminium'\n 'Benzyldodecyldimethylammoniumbromide'\n 'N,n-dimethyl-n-benzyl-1-dodecanaminium'\n 'N,n-dimethyl-n-benzyldodecan-1-aminium'\n 'N-benzyl-n,n-dimethyl-1-dodecanaminium']",
         "0.799446749654219"
        ],
        [
         "45",
         "16991",
         "Massbank:AU406506 3,6,9,12-Tetraoxatetracosan-1-ol|Tetraethylene glycol monododecyl ether|2-[2-[2-(2-dodecoxyethoxy)ethoxy]ethoxy]ethanol",
         "['Tetraethylene glycol monododecyl ether' 'Laureth-4' 'Dodecyltetraglycol'\n 'Tetra(oxyethylene) dodecyl ether' 'Tetraethylene glycol dodecyl ether'\n 'La 4' 'Mulsifan cpa' 'Tetra(oxydiethanol) monodecyl ether'\n 'N-dodecyl tetraethylene glycol ether'\n 'Tetraethylene glycol monolauryl ether'\n 'Lauryl alcohol tri(oxyethylene) ethanol'\n 'Tetraoxyethylene glycol monododecyl ether'\n 'Ethanol, 2-(2-(2-(2-(dodecyloxy)ethoxy)ethoxy)ethoxy)-'\n 'Tetraethylene glycol mono-n-dodecyl ether'\n 'Tetraethyleneglycol monododecyl ether'\n 'Ethanol, 2-[2-[2-[2-(dodecyloxy)ethoxy]ethoxy]ethoxy]-' 'Marlowet bl'\n 'Empilan kbe4' 'Ethosperse la-4' 'Brijl4-lq'\n 'Dodecyl tetraethylene glycol ether' 'Rhodasurf l-4' 'Unihydol ls-4'\n 'Hetoxol la-4' 'Jeecol la-4' 'Lipocol l-4' 'Lumulse l-4' 'Procol la-4'\n 'Unicol la-4' 'Brij l4' 'Ethal la-4' 'Lanycol-30' 'Pegnol l-4'\n 'Dodecyltetraethylene glycol monoether' 'Lauromacrogol 200'\n 'Akypo rox rlm 40' 'Genapol la 040' 'Nikkol bl-4.2' 'Brij-30'\n 'Safol 23e4 ethoxylate' 'Macrogol 2 lauryl ether'\n 'Dodecyl-tetraethyleneoxide ether' 'Dodecyl tetra(oxyethylene) ether'\n 'Brij(r) l4, average mn ~362'\n 'Tetraethylenen glycol mono-n-dodecyl ether'\n 'Tetraethylene glycol monododecyl ether, bioxtra, >=98.0% (gc)'\n 'Massbank:au406506 3,6,9,12-tetraoxatetracosan-1-ol|tetraethylene glycol monododecyl ether|2-[2-[2-(2-dodecoxyethoxy)ethoxy]ethoxy]ethanol']",
         "0.0013831258644536"
        ],
        [
         "46",
         "17047",
         "Spectral Match to N-Lauroylsarcosine from NIST14",
         "['N-lauroylsarcosine' 'Lauroyl sarcosine'\n 'Glycine, n-methyl-n-(1-oxododecyl)-' 'Lauroylsarcosine'\n 'N-dodecanoylsarcosine' 'Hamposyl l' 'N-laurylsarcosine'\n 'N-dodecanoyl-n-methylglycine' 'N-lauroyl sarcosinate' 'Maprosyl l'\n 'Sarcosyl l' 'Sarkosyl l' 'Sarkosyl' 'N-lauroyl-n-methylaminoacetic acid'\n 'Sarcosine, n-lauroyl-' 'Crodasinic l' 'Nikkol sarcosinate lh'\n 'Lauroylsarcosine (sodium salt)' 'Vanseal ls'\n 'Glycine,n-methyl-n-(1-oxododecyl)-' 'Ec 202-608-3'\n 'N-methyl-n-(1-oxododecyl)glycine' 'N-lauroylsarcosine, neat, >=95%'\n 'N-methyl-n-(1-oxododecyl) glycine'\n '[dodecanoyl(methyl)amino]acetic acid #'\n 'N-lauroylsarcosine, purum p.a., >=98.0% (gc)']",
         "0.0027662517289073"
        ],
        [
         "47",
         "17079",
         "Spectral Match to N-Lauroylsarcosine from NIST14",
         "['N-lauroylsarcosine' 'Lauroyl sarcosine'\n 'Glycine, n-methyl-n-(1-oxododecyl)-' 'Lauroylsarcosine'\n 'N-dodecanoylsarcosine' 'Hamposyl l' 'N-laurylsarcosine'\n 'N-dodecanoyl-n-methylglycine' 'N-lauroyl sarcosinate' 'Maprosyl l'\n 'Sarcosyl l' 'Sarkosyl l' 'Sarkosyl' 'N-lauroyl-n-methylaminoacetic acid'\n 'Sarcosine, n-lauroyl-' 'Crodasinic l' 'Nikkol sarcosinate lh'\n 'Lauroylsarcosine (sodium salt)' 'Vanseal ls'\n 'Glycine,n-methyl-n-(1-oxododecyl)-' 'Ec 202-608-3'\n 'N-methyl-n-(1-oxododecyl)glycine' 'N-lauroylsarcosine, neat, >=95%'\n 'N-methyl-n-(1-oxododecyl) glycine'\n '[dodecanoyl(methyl)amino]acetic acid #'\n 'N-lauroylsarcosine, purum p.a., >=98.0% (gc)']",
         "0.118948824343015"
        ],
        [
         "48",
         "17655",
         "Massbank:AU246406 Triphenylphosphate|triphenyl phosphate",
         "['Triphenylphosphate' 'Phosphoric acid, triphenyl ester' 'Disflamoll tp'\n 'Celluflex tpp' 'Phosflex tpp' 'Triphenoxyphosphine oxide'\n 'Trifenylfosfat' 'Phenyl phosphate ((pho)3po)'\n 'Phosphoric acid triphenyl ester' 'Triphenyl phosphoric acid ester'\n 'Ec 204-112-2' 'Triphenyl phosphate 1000 microg/ml in acetone'\n 'Triphenyl phosphate 10 microg/ml in ethyl acetate'\n 'Trifenylfosfat [czech]'\n 'Triphenyl phosphate 500 microg/ml in methyl-tert-butyl ether'\n 'Reofos tpp' 'Triphenyl phosphate (tpp)' 'Altal' 'Kronitex tpp'\n 'Reolube tpp' 'Reomol tpp' 'Triphenyl phosphate, reagent'\n 'Phenyl phosphate, (pho)3po' 'Triphenyl phosphate, >=99%'\n 'Triphenyl phosphate (tpp, tphp)'\n 'Triphenyl phosphate, analytical standard'\n 'Triphenyl phosphate, tracecert(r), 31p-qnmr standard'\n 'Triphenyl phosphate (tpp) 500 microg/ml in methyl tert-butyl ether'\n 'Triphenyl phosphate (tpp) 500 microg/ml in methyl-tert-butyl ether'\n 'Massbank:au246406 triphenylphosphate|triphenyl phosphate']",
         "0.185338865836791"
        ],
        [
         "49",
         "17735",
         "histamine-C23:1",
         "['Histamine-c23:1']",
         "0.0179806362378976"
        ]
       ],
       "shape": {
        "columns": 4,
        "rows": 94
       }
      },
      "text/html": [
       "<div>\n",
       "<style scoped>\n",
       "    .dataframe tbody tr th:only-of-type {\n",
       "        vertical-align: middle;\n",
       "    }\n",
       "\n",
       "    .dataframe tbody tr th {\n",
       "        vertical-align: top;\n",
       "    }\n",
       "\n",
       "    .dataframe thead th {\n",
       "        text-align: right;\n",
       "    }\n",
       "</style>\n",
       "<table border=\"1\" class=\"dataframe\">\n",
       "  <thead>\n",
       "    <tr style=\"text-align: right;\">\n",
       "      <th></th>\n",
       "      <th>FEATURE_ID</th>\n",
       "      <th>COMPOUND_NAME</th>\n",
       "      <th>SYNONYMS</th>\n",
       "      <th>DETECTION_FREQUENCY</th>\n",
       "    </tr>\n",
       "  </thead>\n",
       "  <tbody>\n",
       "    <tr>\n",
       "      <th>0</th>\n",
       "      <td>19</td>\n",
       "      <td>Massbank:CE000230 Tyrosine</td>\n",
       "      <td>[Tyrosine, H-dl-tyr-oh, Tyrosine, dl-, Tyrosin...</td>\n",
       "      <td>0.066390</td>\n",
       "    </tr>\n",
       "    <tr>\n",
       "      <th>1</th>\n",
       "      <td>313</td>\n",
       "      <td>NCGC00385412-01_C21H32O10_2,4-Pentadienoic aci...</td>\n",
       "      <td>[(2z,4e)-5-[(1r,3r,5r,8s)-8-hydroxy-1,5-dimeth...</td>\n",
       "      <td>0.020747</td>\n",
       "    </tr>\n",
       "    <tr>\n",
       "      <th>2</th>\n",
       "      <td>333</td>\n",
       "      <td>Phenylalanine - 40.00 eV</td>\n",
       "      <td>[Phenylalanine, 2-amino-3-phenylpropanoic acid...</td>\n",
       "      <td>0.228216</td>\n",
       "    </tr>\n",
       "    <tr>\n",
       "      <th>3</th>\n",
       "      <td>466</td>\n",
       "      <td>2-[(4-hydroxy-3,5-dimethoxyphenyl)methoxy]-6-(...</td>\n",
       "      <td>[2-[(4-hydroxy-3,5-dimethoxyphenyl)methoxy]-6-...</td>\n",
       "      <td>0.210235</td>\n",
       "    </tr>\n",
       "    <tr>\n",
       "      <th>4</th>\n",
       "      <td>929</td>\n",
       "      <td>D-TRYPTOPHAN - 50.0 eV</td>\n",
       "      <td>[Tryptophan, H-d-trp-oh, Tryptophane, Dtryptop...</td>\n",
       "      <td>0.048409</td>\n",
       "    </tr>\n",
       "    <tr>\n",
       "      <th>...</th>\n",
       "      <td>...</td>\n",
       "      <td>...</td>\n",
       "      <td>...</td>\n",
       "      <td>...</td>\n",
       "    </tr>\n",
       "    <tr>\n",
       "      <th>89</th>\n",
       "      <td>25752</td>\n",
       "      <td>Contaminants septum vial Thermo C4000-53 and C...</td>\n",
       "      <td>[Contaminants septum vial Thermo C4000-53 and ...</td>\n",
       "      <td>0.031812</td>\n",
       "    </tr>\n",
       "    <tr>\n",
       "      <th>90</th>\n",
       "      <td>25858</td>\n",
       "      <td>ACARBOSE-unclear if this is accurate</td>\n",
       "      <td>[ACARBOSE-unclear if this is accurate]</td>\n",
       "      <td>0.024896</td>\n",
       "    </tr>\n",
       "    <tr>\n",
       "      <th>91</th>\n",
       "      <td>26019</td>\n",
       "      <td>Spectral Match to Benzyldodecyldimethylammoniu...</td>\n",
       "      <td>[Benzododecinium, Ajatin, Benzyldodecyldimethy...</td>\n",
       "      <td>0.038728</td>\n",
       "    </tr>\n",
       "    <tr>\n",
       "      <th>92</th>\n",
       "      <td>26087</td>\n",
       "      <td>Spectral Match to 1-Hexadecanoyl-2-(9Z-octadec...</td>\n",
       "      <td>[Pc(16:0/18:1(9z)), Palmitoyloleoylphosphatidy...</td>\n",
       "      <td>0.002766</td>\n",
       "    </tr>\n",
       "    <tr>\n",
       "      <th>93</th>\n",
       "      <td>26091</td>\n",
       "      <td>Spectral Match to 1,2-Dilinoleoyl-sn-glycero-3...</td>\n",
       "      <td>[Dilinoleoyllecithin, Pc, Pc(18:2(9z,12z)/18:2...</td>\n",
       "      <td>0.019364</td>\n",
       "    </tr>\n",
       "  </tbody>\n",
       "</table>\n",
       "<p>94 rows × 4 columns</p>\n",
       "</div>"
      ],
      "text/plain": [
       "    FEATURE_ID                                      COMPOUND_NAME  \\\n",
       "0           19                         Massbank:CE000230 Tyrosine   \n",
       "1          313  NCGC00385412-01_C21H32O10_2,4-Pentadienoic aci...   \n",
       "2          333                           Phenylalanine - 40.00 eV   \n",
       "3          466  2-[(4-hydroxy-3,5-dimethoxyphenyl)methoxy]-6-(...   \n",
       "4          929                             D-TRYPTOPHAN - 50.0 eV   \n",
       "..         ...                                                ...   \n",
       "89       25752  Contaminants septum vial Thermo C4000-53 and C...   \n",
       "90       25858               ACARBOSE-unclear if this is accurate   \n",
       "91       26019  Spectral Match to Benzyldodecyldimethylammoniu...   \n",
       "92       26087  Spectral Match to 1-Hexadecanoyl-2-(9Z-octadec...   \n",
       "93       26091  Spectral Match to 1,2-Dilinoleoyl-sn-glycero-3...   \n",
       "\n",
       "                                             SYNONYMS  DETECTION_FREQUENCY  \n",
       "0   [Tyrosine, H-dl-tyr-oh, Tyrosine, dl-, Tyrosin...             0.066390  \n",
       "1   [(2z,4e)-5-[(1r,3r,5r,8s)-8-hydroxy-1,5-dimeth...             0.020747  \n",
       "2   [Phenylalanine, 2-amino-3-phenylpropanoic acid...             0.228216  \n",
       "3   [2-[(4-hydroxy-3,5-dimethoxyphenyl)methoxy]-6-...             0.210235  \n",
       "4   [Tryptophan, H-d-trp-oh, Tryptophane, Dtryptop...             0.048409  \n",
       "..                                                ...                  ...  \n",
       "89  [Contaminants septum vial Thermo C4000-53 and ...             0.031812  \n",
       "90             [ACARBOSE-unclear if this is accurate]             0.024896  \n",
       "91  [Benzododecinium, Ajatin, Benzyldodecyldimethy...             0.038728  \n",
       "92  [Pc(16:0/18:1(9z)), Palmitoyloleoylphosphatidy...             0.002766  \n",
       "93  [Dilinoleoyllecithin, Pc, Pc(18:2(9z,12z)/18:2...             0.019364  \n",
       "\n",
       "[94 rows x 4 columns]"
      ]
     },
     "execution_count": 2,
     "metadata": {},
     "output_type": "execute_result"
    }
   ],
   "source": [
    "a = pd.read_parquet(\"../../data/public/harmonized/iss_harmonized.parquet\")\n",
    "a"
   ]
  },
  {
   "cell_type": "code",
   "execution_count": 3,
   "id": "658dbd34",
   "metadata": {},
   "outputs": [],
   "source": [
    "from chemsource import ChemSource\n",
    "from pandarallel import pandarallel\n",
    "import os\n",
    "\n",
    "def retrieve_text_synonyms_list(synonyms_list, model, source_priority=\"WIKIPEDIA\"):\n",
    "    \"\"\"\n",
    "    Retrieve text from a list of synonyms.\n",
    "    \n",
    "    Args:\n",
    "        synonyms_list (list): A list of synonyms.\n",
    "    \n",
    "    Returns:\n",
    "        tuple: A tuple containing the best synonym, the source of text, and the text itself.\n",
    "    \"\"\"\n",
    "    \n",
    "    results = []\n",
    "    for synonym in synonyms_list:\n",
    "        if isinstance(synonym, str):\n",
    "            source, text = model.retrieve(synonym)\n",
    "            if source == source_priority:\n",
    "                return synonym, source, text\n",
    "            results.append((synonym, source, text))\n",
    "\n",
    "    results_filtered = [result for result in results if result[2] != \"NO_RESULTS\"]\n",
    "\n",
    "    if results_filtered:\n",
    "        return results_filtered[0]\n",
    "    else:\n",
    "        return None, None, None\n",
    "\n",
    "def retrieve_text(harmonized_dataframe, ncbi_key=None, synonyms_column=\"SYNONYMS\", source_column=\"SOURCE\", updated_name_column=\"USED_NAME\", text_column=\"TEXT\"):\n",
    "    \"\"\"\n",
    "    Retrieve text from the harmonized dataframe based on the specified columns.\n",
    "    \n",
    "    Args:\n",
    "        harmonized_dataframe (pd.DataFrame): The harmonized dataframe.\n",
    "        synonyms_column (str): The column containing synonyms.\n",
    "        source_column (str): The column containing the source of the data.\n",
    "        updated_name_column (str): The column containing the updated name.\n",
    "        text_column (str): The column containing the text to be retrieved.\n",
    "    \n",
    "    Returns:\n",
    "        pd.DataFrame: A DataFrame with the retrieved text.\n",
    "    \"\"\"\n",
    "    harmonized_dataframe = harmonized_dataframe.copy()\n",
    "    \n",
    "    if ncbi_key:\n",
    "        model = ChemSource(ncbi_key=ncbi_key)\n",
    "        slow = False\n",
    "    else:\n",
    "        model = ChemSource()\n",
    "        slow = True\n",
    "\n",
    "    if slow:\n",
    "\n",
    "        for index, row in harmonized_dataframe.iterrows():\n",
    "            synonyms_list = row[synonyms_column]\n",
    "            best_synonym, source, text = retrieve_text_synonyms_list(synonyms_list, model)\n",
    "            harmonized_dataframe.loc[index, updated_name_column] = best_synonym\n",
    "            harmonized_dataframe.loc[index, source_column] = source\n",
    "            harmonized_dataframe.loc[index, text_column] = text\n",
    "\n",
    "        return harmonized_dataframe\n",
    "\n",
    "    else:\n",
    "        pandarallel.initialize(progress_bar=True, nb_workers=max(8, os.cpu_count() - 1))\n",
    "        retrieval_results = harmonized_dataframe[synonyms_column].parallel_apply(\n",
    "            lambda synonyms_list: retrieve_text_synonyms_list(synonyms_list, model)\n",
    "        )\n",
    "\n",
    "        harmonized_dataframe[updated_name_column] = retrieval_results.apply(lambda x: x[0])\n",
    "        harmonized_dataframe[source_column] = retrieval_results.apply(lambda x: x[1])\n",
    "        harmonized_dataframe[text_column] = retrieval_results.apply(lambda x: x[2])\n",
    "\n",
    "        return harmonized_dataframe\n"
   ]
  },
  {
   "cell_type": "code",
   "execution_count": null,
   "id": "596ddc81",
   "metadata": {},
   "outputs": [
    {
     "name": "stdout",
     "output_type": "stream",
     "text": [
      "INFO: Pandarallel will run on 8 workers.\n",
      "INFO: Pandarallel will use standard multiprocessing data transfer (pipe) to transfer data between the main process and workers.\n"
     ]
    },
    {
     "data": {
      "application/vnd.jupyter.widget-view+json": {
       "model_id": "1bc0d2bdedc04c87a00b2fe0c33b6a5c",
       "version_major": 2,
       "version_minor": 0
      },
      "text/plain": [
       "VBox(children=(HBox(children=(IntProgress(value=0, description='0.00%', max=12), Label(value='0 / 12'))), HBox…"
      ]
     },
     "metadata": {},
     "output_type": "display_data"
    },
    {
     "name": "stderr",
     "output_type": "stream",
     "text": [
      "/opt/homebrew/anaconda3/envs/chemsource-data-analysis/lib/python3.13/site-packages/wikipedia/wikipedia.py:389: GuessedAtParserWarning: No parser was explicitly specified, so I'm using the best available HTML parser for this system (\"lxml\"). This usually isn't a problem, but if you run this code on another system, or in a different virtual environment, it may use a different parser and behave differently.\n",
      "\n",
      "The code that caused this warning is on line 389 of the file /opt/homebrew/anaconda3/envs/chemsource-data-analysis/lib/python3.13/site-packages/wikipedia/wikipedia.py. To get rid of this warning, pass the additional argument 'features=\"lxml\"' to the BeautifulSoup constructor.\n",
      "\n",
      "  lis = BeautifulSoup(html).find_all('li')\n"
     ]
    }
   ],
   "source": [
    "NCBI_API_KEY = \"bdd2f83e20dc27d1e257d3896d036fd0a108\"\n",
    "retrieve_text(a, ncbi_key=NCBI_API_KEY)"
   ]
  },
  {
   "cell_type": "code",
   "execution_count": 24,
   "id": "d59d2623",
   "metadata": {},
   "outputs": [
    {
     "data": {
      "text/plain": [
       "array(['Bis(2,2,6,6-tetramethyl-4-piperidyl) sebacate',\n",
       "       'Bis(2,2,6,6-tetramethylpiperidin-4-yl) decanedioate',\n",
       "       'Tinuvin 770', 'Bis(2,2,6,6-tetramethyl-4-piperidyl)sebacate',\n",
       "       'Sanol', 'Sanol 770', 'Eversorb 90', 'Sumisorb 577',\n",
       "       'Tinuvin 770df', 'Tinuvin 770ls', 'Sanol ls 700', 'Sanol ls 770',\n",
       "       'Mark la 77', 'Bis(2,2,6,6-tetramethyl-4-piperidinyl)sebacate',\n",
       "       'Bis(2,2,6,6-tetramethyl-4-piperidinyl) sebacate', 'Ls 770',\n",
       "       'Bis(2,2,6,6-tetramethylpiperidin-4-yl) sebacate',\n",
       "       'Bis(2,2,6,6-tetramethyl-4-piperidinyl) decanedioate', 'T 770',\n",
       "       'Sebacic acid bis(2,2,6,6-tetramethyl-4-piperidyl) ester',\n",
       "       'Decanedioic acid, 1,10-bis(2,2,6,6-tetramethyl-4-piperidinyl) ester',\n",
       "       'Antioxidant 770', 'Hillite 77', 'Viosorb 04', 'Adeka la 77',\n",
       "       'Uvinul 4077h',\n",
       "       'Decanedioic acid bis(2,2,6,6-tetramethyl-4-piperidyl) ester',\n",
       "       'Tinuvin770', 'Lowilite 77', 'Gw 480', 'Tn 770', 'Uvaseb 770',\n",
       "       'Ec 258-207-9', 'Cs-w013829',\n",
       "       'Bis(2,2,6,6,-tetramethyl-4-piperidyl)sebacate',\n",
       "       'Bis(2,2,6,6-tetramethylpiperdin-4-yl) sebacate',\n",
       "       'Bis(2,2,6,6-tetramethylpiperid-4-yl) sebacate',\n",
       "       'Bis(2,2,6,6-tetramethylpiperidin-4-yl)sebacate',\n",
       "       'Bis-(2,2,6,6-tetramethyl-4-piperidyl) sebacate',\n",
       "       'Di-(2,2,6,6-tetramethylpiperidin-4-yl) sebacate',\n",
       "       'Bis(2,2,6,6-tetramethylpiperidin-4-yl)decanedioate',\n",
       "       'Bis-(2,2,6,6-tetramethylpiperidin-4-yl) sebacate',\n",
       "       'Sebacic acid, bis(2,2,6,6-tetramethyl-4-piperidinyl) ester',\n",
       "       'Bis(2,2,6,6-tetramethyl-4-piperidyl) sebacate solution in acetonitrile, 1000mug/ml'],\n",
       "      dtype=object)"
      ]
     },
     "execution_count": 24,
     "metadata": {},
     "output_type": "execute_result"
    }
   ],
   "source": [
    "a[\"SYNONYMS\"][19]"
   ]
  }
 ],
 "metadata": {
  "kernelspec": {
   "display_name": "chemsource-data-analysis",
   "language": "python",
   "name": "python3"
  },
  "language_info": {
   "codemirror_mode": {
    "name": "ipython",
    "version": 3
   },
   "file_extension": ".py",
   "mimetype": "text/x-python",
   "name": "python",
   "nbconvert_exporter": "python",
   "pygments_lexer": "ipython3",
   "version": "3.13.5"
  }
 },
 "nbformat": 4,
 "nbformat_minor": 5
}
