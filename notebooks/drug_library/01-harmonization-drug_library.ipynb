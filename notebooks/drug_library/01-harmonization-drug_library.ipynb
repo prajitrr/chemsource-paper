{
 "cells": [
  {
   "cell_type": "code",
   "execution_count": 1,
   "id": "b9464860",
   "metadata": {},
   "outputs": [],
   "source": [
    "import pandas as pd\n",
    "\n",
    "import os\n",
    "import sys\n",
    "\n",
    "sys.path.append(os.path.abspath(\"../../src\"))\n",
    "from harmonization import harmonize_drug_library_data"
   ]
  },
  {
   "cell_type": "code",
   "execution_count": 2,
   "id": "9ceae431",
   "metadata": {},
   "outputs": [],
   "source": [
    "harmonize_drug_library_data(drug_library_data_folder=\"../../data/drug_library/raw/\",\n",
    "                            output_folder_harmonized_synonyms=\"../../data/drug_library/harmonized_synonyms/\",\n",
    "                            output_folder_harmonized_manual=\"../../data/drug_library/harmonized_manual/\")"
   ]
  }
 ],
 "metadata": {
  "kernelspec": {
   "display_name": "chemsource-data-analysis",
   "language": "python",
   "name": "python3"
  },
  "language_info": {
   "codemirror_mode": {
    "name": "ipython",
    "version": 3
   },
   "file_extension": ".py",
   "mimetype": "text/x-python",
   "name": "python",
   "nbconvert_exporter": "python",
   "pygments_lexer": "ipython3",
   "version": "3.13.5"
  }
 },
 "nbformat": 4,
 "nbformat_minor": 5
}
